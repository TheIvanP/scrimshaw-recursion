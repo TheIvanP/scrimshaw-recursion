{
 "cells": [
  {
   "cell_type": "markdown",
   "metadata": {
    "editable": true
   },
   "source": [
    "# ETL Processes\n",
    "Use this notebook to develop the ETL process for each of your tables before completing the `etl.py` file to load the whole datasets."
   ]
  },
  {
   "cell_type": "code",
   "execution_count": 1,
   "metadata": {
    "editable": true
   },
   "outputs": [],
   "source": [
    "import os\n",
    "import glob\n",
    "import psycopg2\n",
    "import pandas as pd\n",
    "import json\n",
    "from sql_queries import *\n",
    "import numpy as np\n",
    "from psycopg2.extensions import register_adapter, AsIs\n",
    "psycopg2.extensions.register_adapter(pd.NaT, psycopg2._psycopg.AsIs)\n"
   ]
  },
  {
   "cell_type": "code",
   "execution_count": 2,
   "metadata": {
    "editable": true
   },
   "outputs": [],
   "source": [
    "\n",
    "conn = psycopg2.connect(\"host=127.0.0.1 dbname=sparkifydb user=postgres password=postgres\")\n",
    "cur = conn.cursor()"
   ]
  },
  {
   "cell_type": "code",
   "execution_count": 3,
   "metadata": {
    "editable": true
   },
   "outputs": [],
   "source": [
    "def get_files(filepath):\n",
    "    all_files = []\n",
    "    for root, dirs, files in os.walk(filepath):\n",
    "        files = glob.glob(os.path.join(root,'*.json'))\n",
    "        for f in files :\n",
    "            all_files.append(os.path.abspath(f))\n",
    "    \n",
    "    return all_files"
   ]
  },
  {
   "cell_type": "markdown",
   "metadata": {
    "editable": true
   },
   "source": [
    "# Process `song_data`\n",
    "In this first part, you'll perform ETL on the first dataset, `song_data`, to create the `songs` and `artists` dimensional tables.\n",
    "\n",
    "Let's perform ETL on a single song file and load a single record into each table to start.\n",
    "- Use the `get_files` function provided above to get a list of all song JSON files in `data/song_data`\n",
    "- Select the first song in this list\n",
    "- Read the song file and view the data"
   ]
  },
  {
   "cell_type": "code",
   "execution_count": 4,
   "metadata": {
    "editable": true
   },
   "outputs": [],
   "source": [
    "song_files = get_files(\"./data/song_data/\")"
   ]
  },
  {
   "cell_type": "code",
   "execution_count": 6,
   "metadata": {
    "editable": true
   },
   "outputs": [
    {
     "output_type": "execute_result",
     "data": {
      "text/plain": [
       "   num_songs           artist_id  artist_latitude  artist_longitude  \\\n",
       "0          1  ARD7TVE1187B99BFB1              NaN               NaN   \n",
       "\n",
       "   artist_location artist_name             song_id             title  \\\n",
       "0  California - LA      Casual  SOMZWCG12A8C13C480  I Didn't Mean To   \n",
       "\n",
       "    duration  year  \n",
       "0  218.93179     0  "
      ],
      "text/html": "<div>\n<style scoped>\n    .dataframe tbody tr th:only-of-type {\n        vertical-align: middle;\n    }\n\n    .dataframe tbody tr th {\n        vertical-align: top;\n    }\n\n    .dataframe thead th {\n        text-align: right;\n    }\n</style>\n<table border=\"1\" class=\"dataframe\">\n  <thead>\n    <tr style=\"text-align: right;\">\n      <th></th>\n      <th>num_songs</th>\n      <th>artist_id</th>\n      <th>artist_latitude</th>\n      <th>artist_longitude</th>\n      <th>artist_location</th>\n      <th>artist_name</th>\n      <th>song_id</th>\n      <th>title</th>\n      <th>duration</th>\n      <th>year</th>\n    </tr>\n  </thead>\n  <tbody>\n    <tr>\n      <th>0</th>\n      <td>1</td>\n      <td>ARD7TVE1187B99BFB1</td>\n      <td>NaN</td>\n      <td>NaN</td>\n      <td>California - LA</td>\n      <td>Casual</td>\n      <td>SOMZWCG12A8C13C480</td>\n      <td>I Didn't Mean To</td>\n      <td>218.93179</td>\n      <td>0</td>\n    </tr>\n  </tbody>\n</table>\n</div>"
     },
     "metadata": {},
     "execution_count": 6
    }
   ],
   "source": [
    "df=pd.read_json(sorted(song_files)[0], lines=True)"
   ]
  },
  {
   "cell_type": "markdown",
   "metadata": {
    "editable": true
   },
   "source": [
    "## #1: `songs` Table\n",
    "#### Extract Data for Songs Table\n",
    "- Select columns for song ID, title, artist ID, year, and duration\n",
    "- Use `df.values` to select just the values from the dataframe\n",
    "- Index to select the first (only) record in the dataframe\n",
    "- Convert the array to a list and set it to `song_data`"
   ]
  },
  {
   "cell_type": "code",
   "execution_count": 7,
   "metadata": {
    "editable": true
   },
   "outputs": [
    {
     "output_type": "execute_result",
     "data": {
      "text/plain": [
       "[str, str, str, int, float]"
      ]
     },
     "metadata": {},
     "execution_count": 7
    }
   ],
   "source": [
    "song_data = df[['song_id', 'title', 'artist_id','year', 'duration']].values[0].tolist()\n",
    "\n",
    "#check types for numpy types not supported in postgres\n",
    "[type(x) for x in song_data]\n"
   ]
  },
  {
   "source": [
    "#### Insert Record into Song Table\n",
    "Implement the `song_table_insert` query in `sql_queries.py` and run the cell below to insert a record for this song into the `songs` table. Remember to run `create_tables.py` before running the cell below to ensure you've created/resetted the `songs` table in the sparkify database."
   ],
   "cell_type": "markdown",
   "metadata": {
    "editable": true
   }
  },
  {
   "cell_type": "code",
   "execution_count": 8,
   "metadata": {
    "editable": true
   },
   "outputs": [],
   "source": [
    "cur.execute(song_table_insert, song_data)\n",
    "conn.commit()"
   ]
  },
  {
   "cell_type": "markdown",
   "metadata": {
    "editable": true
   },
   "source": [
    "Run `test.ipynb` to see if you've successfully added a record to this table."
   ]
  },
  {
   "cell_type": "markdown",
   "metadata": {
    "editable": true
   },
   "source": [
    "## #2: `artists` Table\n",
    "#### Extract Data for Artists Table\n",
    "- Select columns for artist ID, name, location, latitude, and longitude\n",
    "- Use `df.values` to select just the values from the dataframe\n",
    "- Index to select the first (only) record in the dataframe\n",
    "- Convert the array to a list and set it to `artist_data`"
   ]
  },
  {
   "cell_type": "code",
   "execution_count": 9,
   "metadata": {
    "editable": true
   },
   "outputs": [
    {
     "output_type": "execute_result",
     "data": {
      "text/plain": [
       "['ARD7TVE1187B99BFB1', 'Casual', 'California - LA', nan, nan]"
      ]
     },
     "metadata": {},
     "execution_count": 9
    }
   ],
   "source": [
    "artist_data = df[['artist_id','artist_name', 'artist_location','artist_latitude', 'artist_longitude']].values.tolist()[0]\n",
    "artist_data"
   ]
  },
  {
   "cell_type": "markdown",
   "metadata": {
    "editable": true
   },
   "source": [
    "#### Insert Record into Artist Table\n",
    "Implement the `artist_table_insert` query in `sql_queries.py` and run the cell below to insert a record for this song's artist into the `artists` table. Remember to run `create_tables.py` before running the cell below to ensure you've created/resetted the `artists` table in the sparkify database."
   ]
  },
  {
   "cell_type": "code",
   "execution_count": 10,
   "metadata": {
    "editable": true
   },
   "outputs": [],
   "source": [
    "cur.execute(artist_table_insert, artist_data)\n",
    "conn.commit()"
   ]
  },
  {
   "cell_type": "markdown",
   "metadata": {
    "editable": true
   },
   "source": [
    "Run `test.ipynb` to see if you've successfully added a record to this table."
   ]
  },
  {
   "cell_type": "markdown",
   "metadata": {
    "editable": true
   },
   "source": [
    "# Process `log_data`\n",
    "In this part, you'll perform ETL on the second dataset, `log_data`, to create the `time` and `users` dimensional tables, as well as the `songplays` fact table.\n",
    "\n",
    "Let's perform ETL on a single log file and load a single record into each table.\n",
    "- Use the `get_files` function provided above to get a list of all log JSON files in `data/log_data`\n",
    "- Select the first log file in this list\n",
    "- Read the log file and view the data"
   ]
  },
  {
   "cell_type": "code",
   "execution_count": 11,
   "metadata": {
    "editable": true
   },
   "outputs": [],
   "source": [
    "log_files = get_files(\"./data/log_data/\")"
   ]
  },
  {
   "cell_type": "code",
   "execution_count": null,
   "metadata": {},
   "outputs": [],
   "source": [
    "filepath = log_files[0]"
   ]
  },
  {
   "cell_type": "code",
   "execution_count": 12,
   "metadata": {
    "editable": true
   },
   "outputs": [
    {
     "output_type": "execute_result",
     "data": {
      "text/plain": [
       "               artist       auth firstName gender  itemInSession lastName  \\\n",
       "0       Stephen Lynch  Logged In    Jayden      M              0     Bell   \n",
       "1             Manowar  Logged In     Jacob      M              0    Klein   \n",
       "2           Morcheeba  Logged In     Jacob      M              1    Klein   \n",
       "3            Maroon 5  Logged In     Jacob      M              2    Klein   \n",
       "4               Train  Logged In     Jacob      M              3    Klein   \n",
       "..                ...        ...       ...    ...            ...      ...   \n",
       "383        Timbiriche  Logged In     Rylan      M             58   George   \n",
       "384  A Perfect Circle  Logged In     Rylan      M             59   George   \n",
       "385          Anberlin  Logged In     Rylan      M             60   George   \n",
       "386              None  Logged In     Rylan      M             61   George   \n",
       "387         Deas Vail  Logged In    Elijah      M              0    Davis   \n",
       "\n",
       "        length level                             location method       page  \\\n",
       "0    182.85669  free      Dallas-Fort Worth-Arlington, TX    PUT   NextSong   \n",
       "1    247.56200  paid  Tampa-St. Petersburg-Clearwater, FL    PUT   NextSong   \n",
       "2    257.41016  paid  Tampa-St. Petersburg-Clearwater, FL    PUT   NextSong   \n",
       "3    231.23546  paid  Tampa-St. Petersburg-Clearwater, FL    PUT   NextSong   \n",
       "4    216.76363  paid  Tampa-St. Petersburg-Clearwater, FL    PUT   NextSong   \n",
       "..         ...   ...                                  ...    ...        ...   \n",
       "383  202.60526  paid                Birmingham-Hoover, AL    PUT   NextSong   \n",
       "384  206.05342  paid                Birmingham-Hoover, AL    PUT   NextSong   \n",
       "385  348.68200  paid                Birmingham-Hoover, AL    PUT   NextSong   \n",
       "386        NaN  paid                Birmingham-Hoover, AL    GET  Downgrade   \n",
       "387  237.68771  free          Detroit-Warren-Dearborn, MI    PUT   NextSong   \n",
       "\n",
       "     registration  sessionId                                   song  status  \\\n",
       "0    1.540992e+12        829                      Jim Henson's Dead     200   \n",
       "1    1.540558e+12       1049                            Shell Shock     200   \n",
       "2    1.540558e+12       1049   Women Lose Weight (Feat: Slick Rick)     200   \n",
       "3    1.540558e+12       1049              Won't Go Home Without You     200   \n",
       "4    1.540558e+12       1049                       Hey_ Soul Sister     200   \n",
       "..            ...        ...                                    ...     ...   \n",
       "383  1.541020e+12       1076                        Besos De Ceniza     200   \n",
       "384  1.541020e+12       1076                                   Rose     200   \n",
       "385  1.541020e+12       1076                           The Haunting     200   \n",
       "386  1.541020e+12       1076                                   None     200   \n",
       "387  1.540772e+12        985  Anything You Say (Unreleased Version)     200   \n",
       "\n",
       "                ts                                          userAgent userId  \n",
       "0    1543537327796  Mozilla/5.0 (compatible; MSIE 10.0; Windows NT...     91  \n",
       "1    1543540121796  \"Mozilla/5.0 (Macintosh; Intel Mac OS X 10_9_4...     73  \n",
       "2    1543540368796  \"Mozilla/5.0 (Macintosh; Intel Mac OS X 10_9_4...     73  \n",
       "3    1543540625796  \"Mozilla/5.0 (Macintosh; Intel Mac OS X 10_9_4...     73  \n",
       "4    1543540856796  \"Mozilla/5.0 (Macintosh; Intel Mac OS X 10_9_4...     73  \n",
       "..             ...                                                ...    ...  \n",
       "383  1543603476796  \"Mozilla/5.0 (Macintosh; Intel Mac OS X 10_9_4...     16  \n",
       "384  1543603678796  \"Mozilla/5.0 (Macintosh; Intel Mac OS X 10_9_4...     16  \n",
       "385  1543603884796  \"Mozilla/5.0 (Macintosh; Intel Mac OS X 10_9_4...     16  \n",
       "386  1543603993796  \"Mozilla/5.0 (Macintosh; Intel Mac OS X 10_9_4...     16  \n",
       "387  1543607664796  \"Mozilla/5.0 (Macintosh; Intel Mac OS X 10_9_4...      5  \n",
       "\n",
       "[388 rows x 18 columns]"
      ],
      "text/html": "<div>\n<style scoped>\n    .dataframe tbody tr th:only-of-type {\n        vertical-align: middle;\n    }\n\n    .dataframe tbody tr th {\n        vertical-align: top;\n    }\n\n    .dataframe thead th {\n        text-align: right;\n    }\n</style>\n<table border=\"1\" class=\"dataframe\">\n  <thead>\n    <tr style=\"text-align: right;\">\n      <th></th>\n      <th>artist</th>\n      <th>auth</th>\n      <th>firstName</th>\n      <th>gender</th>\n      <th>itemInSession</th>\n      <th>lastName</th>\n      <th>length</th>\n      <th>level</th>\n      <th>location</th>\n      <th>method</th>\n      <th>page</th>\n      <th>registration</th>\n      <th>sessionId</th>\n      <th>song</th>\n      <th>status</th>\n      <th>ts</th>\n      <th>userAgent</th>\n      <th>userId</th>\n    </tr>\n  </thead>\n  <tbody>\n    <tr>\n      <th>0</th>\n      <td>Stephen Lynch</td>\n      <td>Logged In</td>\n      <td>Jayden</td>\n      <td>M</td>\n      <td>0</td>\n      <td>Bell</td>\n      <td>182.85669</td>\n      <td>free</td>\n      <td>Dallas-Fort Worth-Arlington, TX</td>\n      <td>PUT</td>\n      <td>NextSong</td>\n      <td>1.540992e+12</td>\n      <td>829</td>\n      <td>Jim Henson's Dead</td>\n      <td>200</td>\n      <td>1543537327796</td>\n      <td>Mozilla/5.0 (compatible; MSIE 10.0; Windows NT...</td>\n      <td>91</td>\n    </tr>\n    <tr>\n      <th>1</th>\n      <td>Manowar</td>\n      <td>Logged In</td>\n      <td>Jacob</td>\n      <td>M</td>\n      <td>0</td>\n      <td>Klein</td>\n      <td>247.56200</td>\n      <td>paid</td>\n      <td>Tampa-St. Petersburg-Clearwater, FL</td>\n      <td>PUT</td>\n      <td>NextSong</td>\n      <td>1.540558e+12</td>\n      <td>1049</td>\n      <td>Shell Shock</td>\n      <td>200</td>\n      <td>1543540121796</td>\n      <td>\"Mozilla/5.0 (Macintosh; Intel Mac OS X 10_9_4...</td>\n      <td>73</td>\n    </tr>\n    <tr>\n      <th>2</th>\n      <td>Morcheeba</td>\n      <td>Logged In</td>\n      <td>Jacob</td>\n      <td>M</td>\n      <td>1</td>\n      <td>Klein</td>\n      <td>257.41016</td>\n      <td>paid</td>\n      <td>Tampa-St. Petersburg-Clearwater, FL</td>\n      <td>PUT</td>\n      <td>NextSong</td>\n      <td>1.540558e+12</td>\n      <td>1049</td>\n      <td>Women Lose Weight (Feat: Slick Rick)</td>\n      <td>200</td>\n      <td>1543540368796</td>\n      <td>\"Mozilla/5.0 (Macintosh; Intel Mac OS X 10_9_4...</td>\n      <td>73</td>\n    </tr>\n    <tr>\n      <th>3</th>\n      <td>Maroon 5</td>\n      <td>Logged In</td>\n      <td>Jacob</td>\n      <td>M</td>\n      <td>2</td>\n      <td>Klein</td>\n      <td>231.23546</td>\n      <td>paid</td>\n      <td>Tampa-St. Petersburg-Clearwater, FL</td>\n      <td>PUT</td>\n      <td>NextSong</td>\n      <td>1.540558e+12</td>\n      <td>1049</td>\n      <td>Won't Go Home Without You</td>\n      <td>200</td>\n      <td>1543540625796</td>\n      <td>\"Mozilla/5.0 (Macintosh; Intel Mac OS X 10_9_4...</td>\n      <td>73</td>\n    </tr>\n    <tr>\n      <th>4</th>\n      <td>Train</td>\n      <td>Logged In</td>\n      <td>Jacob</td>\n      <td>M</td>\n      <td>3</td>\n      <td>Klein</td>\n      <td>216.76363</td>\n      <td>paid</td>\n      <td>Tampa-St. Petersburg-Clearwater, FL</td>\n      <td>PUT</td>\n      <td>NextSong</td>\n      <td>1.540558e+12</td>\n      <td>1049</td>\n      <td>Hey_ Soul Sister</td>\n      <td>200</td>\n      <td>1543540856796</td>\n      <td>\"Mozilla/5.0 (Macintosh; Intel Mac OS X 10_9_4...</td>\n      <td>73</td>\n    </tr>\n    <tr>\n      <th>...</th>\n      <td>...</td>\n      <td>...</td>\n      <td>...</td>\n      <td>...</td>\n      <td>...</td>\n      <td>...</td>\n      <td>...</td>\n      <td>...</td>\n      <td>...</td>\n      <td>...</td>\n      <td>...</td>\n      <td>...</td>\n      <td>...</td>\n      <td>...</td>\n      <td>...</td>\n      <td>...</td>\n      <td>...</td>\n      <td>...</td>\n    </tr>\n    <tr>\n      <th>383</th>\n      <td>Timbiriche</td>\n      <td>Logged In</td>\n      <td>Rylan</td>\n      <td>M</td>\n      <td>58</td>\n      <td>George</td>\n      <td>202.60526</td>\n      <td>paid</td>\n      <td>Birmingham-Hoover, AL</td>\n      <td>PUT</td>\n      <td>NextSong</td>\n      <td>1.541020e+12</td>\n      <td>1076</td>\n      <td>Besos De Ceniza</td>\n      <td>200</td>\n      <td>1543603476796</td>\n      <td>\"Mozilla/5.0 (Macintosh; Intel Mac OS X 10_9_4...</td>\n      <td>16</td>\n    </tr>\n    <tr>\n      <th>384</th>\n      <td>A Perfect Circle</td>\n      <td>Logged In</td>\n      <td>Rylan</td>\n      <td>M</td>\n      <td>59</td>\n      <td>George</td>\n      <td>206.05342</td>\n      <td>paid</td>\n      <td>Birmingham-Hoover, AL</td>\n      <td>PUT</td>\n      <td>NextSong</td>\n      <td>1.541020e+12</td>\n      <td>1076</td>\n      <td>Rose</td>\n      <td>200</td>\n      <td>1543603678796</td>\n      <td>\"Mozilla/5.0 (Macintosh; Intel Mac OS X 10_9_4...</td>\n      <td>16</td>\n    </tr>\n    <tr>\n      <th>385</th>\n      <td>Anberlin</td>\n      <td>Logged In</td>\n      <td>Rylan</td>\n      <td>M</td>\n      <td>60</td>\n      <td>George</td>\n      <td>348.68200</td>\n      <td>paid</td>\n      <td>Birmingham-Hoover, AL</td>\n      <td>PUT</td>\n      <td>NextSong</td>\n      <td>1.541020e+12</td>\n      <td>1076</td>\n      <td>The Haunting</td>\n      <td>200</td>\n      <td>1543603884796</td>\n      <td>\"Mozilla/5.0 (Macintosh; Intel Mac OS X 10_9_4...</td>\n      <td>16</td>\n    </tr>\n    <tr>\n      <th>386</th>\n      <td>None</td>\n      <td>Logged In</td>\n      <td>Rylan</td>\n      <td>M</td>\n      <td>61</td>\n      <td>George</td>\n      <td>NaN</td>\n      <td>paid</td>\n      <td>Birmingham-Hoover, AL</td>\n      <td>GET</td>\n      <td>Downgrade</td>\n      <td>1.541020e+12</td>\n      <td>1076</td>\n      <td>None</td>\n      <td>200</td>\n      <td>1543603993796</td>\n      <td>\"Mozilla/5.0 (Macintosh; Intel Mac OS X 10_9_4...</td>\n      <td>16</td>\n    </tr>\n    <tr>\n      <th>387</th>\n      <td>Deas Vail</td>\n      <td>Logged In</td>\n      <td>Elijah</td>\n      <td>M</td>\n      <td>0</td>\n      <td>Davis</td>\n      <td>237.68771</td>\n      <td>free</td>\n      <td>Detroit-Warren-Dearborn, MI</td>\n      <td>PUT</td>\n      <td>NextSong</td>\n      <td>1.540772e+12</td>\n      <td>985</td>\n      <td>Anything You Say (Unreleased Version)</td>\n      <td>200</td>\n      <td>1543607664796</td>\n      <td>\"Mozilla/5.0 (Macintosh; Intel Mac OS X 10_9_4...</td>\n      <td>5</td>\n    </tr>\n  </tbody>\n</table>\n<p>388 rows × 18 columns</p>\n</div>"
     },
     "metadata": {},
     "execution_count": 12
    }
   ],
   "source": [
    "df = pd.read_json(filepath, lines=True)\n",
    "df\n"
   ]
  },
  {
   "cell_type": "markdown",
   "metadata": {
    "editable": true
   },
   "source": [
    "## #3: `time` Table\n",
    "#### Extract Data for Time Table\n",
    "- Filter records by `NextSong` action\n",
    "- Convert the `ts` timestamp column to datetime\n",
    "  - Hint: the current timestamp is in milliseconds\n",
    "- Extract the timestamp, hour, day, week of year, month, year, and weekday from the `ts` column and set `time_data` to a list containing these values in order\n",
    "  - Hint: use pandas' [`dt` attribute](https://pandas.pydata.org/pandas-docs/stable/reference/api/pandas.Series.dt.html) to access easily datetimelike properties.\n",
    "- Specify labels for these columns and set to `column_labels`\n",
    "- Create a dataframe, `time_df,` containing the time data for this file by combining `column_labels` and `time_data` into a dictionary and converting this into a dataframe"
   ]
  },
  {
   "cell_type": "code",
   "execution_count": 13,
   "metadata": {
    "editable": true
   },
   "outputs": [
    {
     "output_type": "execute_result",
     "data": {
      "text/plain": [
       "               artist       auth firstName gender  itemInSession lastName  \\\n",
       "0       Stephen Lynch  Logged In    Jayden      M            0.0     Bell   \n",
       "1             Manowar  Logged In     Jacob      M            0.0    Klein   \n",
       "2           Morcheeba  Logged In     Jacob      M            1.0    Klein   \n",
       "3            Maroon 5  Logged In     Jacob      M            2.0    Klein   \n",
       "4               Train  Logged In     Jacob      M            3.0    Klein   \n",
       "..                ...        ...       ...    ...            ...      ...   \n",
       "382      Foo Fighters  Logged In     Rylan      M           57.0   George   \n",
       "383        Timbiriche  Logged In     Rylan      M           58.0   George   \n",
       "384  A Perfect Circle  Logged In     Rylan      M           59.0   George   \n",
       "385          Anberlin  Logged In     Rylan      M           60.0   George   \n",
       "387         Deas Vail  Logged In    Elijah      M            0.0    Davis   \n",
       "\n",
       "        length level                             location method      page  \\\n",
       "0    182.85669  free      Dallas-Fort Worth-Arlington, TX    PUT  NextSong   \n",
       "1    247.56200  paid  Tampa-St. Petersburg-Clearwater, FL    PUT  NextSong   \n",
       "2    257.41016  paid  Tampa-St. Petersburg-Clearwater, FL    PUT  NextSong   \n",
       "3    231.23546  paid  Tampa-St. Petersburg-Clearwater, FL    PUT  NextSong   \n",
       "4    216.76363  paid  Tampa-St. Petersburg-Clearwater, FL    PUT  NextSong   \n",
       "..         ...   ...                                  ...    ...       ...   \n",
       "382  271.38567  paid                Birmingham-Hoover, AL    PUT  NextSong   \n",
       "383  202.60526  paid                Birmingham-Hoover, AL    PUT  NextSong   \n",
       "384  206.05342  paid                Birmingham-Hoover, AL    PUT  NextSong   \n",
       "385  348.68200  paid                Birmingham-Hoover, AL    PUT  NextSong   \n",
       "387  237.68771  free          Detroit-Warren-Dearborn, MI    PUT  NextSong   \n",
       "\n",
       "     registration  sessionId                                   song  status  \\\n",
       "0    1.540992e+12      829.0                      Jim Henson's Dead   200.0   \n",
       "1    1.540558e+12     1049.0                            Shell Shock   200.0   \n",
       "2    1.540558e+12     1049.0   Women Lose Weight (Feat: Slick Rick)   200.0   \n",
       "3    1.540558e+12     1049.0              Won't Go Home Without You   200.0   \n",
       "4    1.540558e+12     1049.0                       Hey_ Soul Sister   200.0   \n",
       "..            ...        ...                                    ...     ...   \n",
       "382  1.541020e+12     1076.0                          The Pretender   200.0   \n",
       "383  1.541020e+12     1076.0                        Besos De Ceniza   200.0   \n",
       "384  1.541020e+12     1076.0                                   Rose   200.0   \n",
       "385  1.541020e+12     1076.0                           The Haunting   200.0   \n",
       "387  1.540772e+12      985.0  Anything You Say (Unreleased Version)   200.0   \n",
       "\n",
       "               ts                                          userAgent userId  \n",
       "0    1.543537e+12  Mozilla/5.0 (compatible; MSIE 10.0; Windows NT...     91  \n",
       "1    1.543540e+12  \"Mozilla/5.0 (Macintosh; Intel Mac OS X 10_9_4...     73  \n",
       "2    1.543540e+12  \"Mozilla/5.0 (Macintosh; Intel Mac OS X 10_9_4...     73  \n",
       "3    1.543541e+12  \"Mozilla/5.0 (Macintosh; Intel Mac OS X 10_9_4...     73  \n",
       "4    1.543541e+12  \"Mozilla/5.0 (Macintosh; Intel Mac OS X 10_9_4...     73  \n",
       "..            ...                                                ...    ...  \n",
       "382  1.543603e+12  \"Mozilla/5.0 (Macintosh; Intel Mac OS X 10_9_4...     16  \n",
       "383  1.543603e+12  \"Mozilla/5.0 (Macintosh; Intel Mac OS X 10_9_4...     16  \n",
       "384  1.543604e+12  \"Mozilla/5.0 (Macintosh; Intel Mac OS X 10_9_4...     16  \n",
       "385  1.543604e+12  \"Mozilla/5.0 (Macintosh; Intel Mac OS X 10_9_4...     16  \n",
       "387  1.543608e+12  \"Mozilla/5.0 (Macintosh; Intel Mac OS X 10_9_4...      5  \n",
       "\n",
       "[330 rows x 18 columns]"
      ],
      "text/html": "<div>\n<style scoped>\n    .dataframe tbody tr th:only-of-type {\n        vertical-align: middle;\n    }\n\n    .dataframe tbody tr th {\n        vertical-align: top;\n    }\n\n    .dataframe thead th {\n        text-align: right;\n    }\n</style>\n<table border=\"1\" class=\"dataframe\">\n  <thead>\n    <tr style=\"text-align: right;\">\n      <th></th>\n      <th>artist</th>\n      <th>auth</th>\n      <th>firstName</th>\n      <th>gender</th>\n      <th>itemInSession</th>\n      <th>lastName</th>\n      <th>length</th>\n      <th>level</th>\n      <th>location</th>\n      <th>method</th>\n      <th>page</th>\n      <th>registration</th>\n      <th>sessionId</th>\n      <th>song</th>\n      <th>status</th>\n      <th>ts</th>\n      <th>userAgent</th>\n      <th>userId</th>\n    </tr>\n  </thead>\n  <tbody>\n    <tr>\n      <th>0</th>\n      <td>Stephen Lynch</td>\n      <td>Logged In</td>\n      <td>Jayden</td>\n      <td>M</td>\n      <td>0.0</td>\n      <td>Bell</td>\n      <td>182.85669</td>\n      <td>free</td>\n      <td>Dallas-Fort Worth-Arlington, TX</td>\n      <td>PUT</td>\n      <td>NextSong</td>\n      <td>1.540992e+12</td>\n      <td>829.0</td>\n      <td>Jim Henson's Dead</td>\n      <td>200.0</td>\n      <td>1.543537e+12</td>\n      <td>Mozilla/5.0 (compatible; MSIE 10.0; Windows NT...</td>\n      <td>91</td>\n    </tr>\n    <tr>\n      <th>1</th>\n      <td>Manowar</td>\n      <td>Logged In</td>\n      <td>Jacob</td>\n      <td>M</td>\n      <td>0.0</td>\n      <td>Klein</td>\n      <td>247.56200</td>\n      <td>paid</td>\n      <td>Tampa-St. Petersburg-Clearwater, FL</td>\n      <td>PUT</td>\n      <td>NextSong</td>\n      <td>1.540558e+12</td>\n      <td>1049.0</td>\n      <td>Shell Shock</td>\n      <td>200.0</td>\n      <td>1.543540e+12</td>\n      <td>\"Mozilla/5.0 (Macintosh; Intel Mac OS X 10_9_4...</td>\n      <td>73</td>\n    </tr>\n    <tr>\n      <th>2</th>\n      <td>Morcheeba</td>\n      <td>Logged In</td>\n      <td>Jacob</td>\n      <td>M</td>\n      <td>1.0</td>\n      <td>Klein</td>\n      <td>257.41016</td>\n      <td>paid</td>\n      <td>Tampa-St. Petersburg-Clearwater, FL</td>\n      <td>PUT</td>\n      <td>NextSong</td>\n      <td>1.540558e+12</td>\n      <td>1049.0</td>\n      <td>Women Lose Weight (Feat: Slick Rick)</td>\n      <td>200.0</td>\n      <td>1.543540e+12</td>\n      <td>\"Mozilla/5.0 (Macintosh; Intel Mac OS X 10_9_4...</td>\n      <td>73</td>\n    </tr>\n    <tr>\n      <th>3</th>\n      <td>Maroon 5</td>\n      <td>Logged In</td>\n      <td>Jacob</td>\n      <td>M</td>\n      <td>2.0</td>\n      <td>Klein</td>\n      <td>231.23546</td>\n      <td>paid</td>\n      <td>Tampa-St. Petersburg-Clearwater, FL</td>\n      <td>PUT</td>\n      <td>NextSong</td>\n      <td>1.540558e+12</td>\n      <td>1049.0</td>\n      <td>Won't Go Home Without You</td>\n      <td>200.0</td>\n      <td>1.543541e+12</td>\n      <td>\"Mozilla/5.0 (Macintosh; Intel Mac OS X 10_9_4...</td>\n      <td>73</td>\n    </tr>\n    <tr>\n      <th>4</th>\n      <td>Train</td>\n      <td>Logged In</td>\n      <td>Jacob</td>\n      <td>M</td>\n      <td>3.0</td>\n      <td>Klein</td>\n      <td>216.76363</td>\n      <td>paid</td>\n      <td>Tampa-St. Petersburg-Clearwater, FL</td>\n      <td>PUT</td>\n      <td>NextSong</td>\n      <td>1.540558e+12</td>\n      <td>1049.0</td>\n      <td>Hey_ Soul Sister</td>\n      <td>200.0</td>\n      <td>1.543541e+12</td>\n      <td>\"Mozilla/5.0 (Macintosh; Intel Mac OS X 10_9_4...</td>\n      <td>73</td>\n    </tr>\n    <tr>\n      <th>...</th>\n      <td>...</td>\n      <td>...</td>\n      <td>...</td>\n      <td>...</td>\n      <td>...</td>\n      <td>...</td>\n      <td>...</td>\n      <td>...</td>\n      <td>...</td>\n      <td>...</td>\n      <td>...</td>\n      <td>...</td>\n      <td>...</td>\n      <td>...</td>\n      <td>...</td>\n      <td>...</td>\n      <td>...</td>\n      <td>...</td>\n    </tr>\n    <tr>\n      <th>382</th>\n      <td>Foo Fighters</td>\n      <td>Logged In</td>\n      <td>Rylan</td>\n      <td>M</td>\n      <td>57.0</td>\n      <td>George</td>\n      <td>271.38567</td>\n      <td>paid</td>\n      <td>Birmingham-Hoover, AL</td>\n      <td>PUT</td>\n      <td>NextSong</td>\n      <td>1.541020e+12</td>\n      <td>1076.0</td>\n      <td>The Pretender</td>\n      <td>200.0</td>\n      <td>1.543603e+12</td>\n      <td>\"Mozilla/5.0 (Macintosh; Intel Mac OS X 10_9_4...</td>\n      <td>16</td>\n    </tr>\n    <tr>\n      <th>383</th>\n      <td>Timbiriche</td>\n      <td>Logged In</td>\n      <td>Rylan</td>\n      <td>M</td>\n      <td>58.0</td>\n      <td>George</td>\n      <td>202.60526</td>\n      <td>paid</td>\n      <td>Birmingham-Hoover, AL</td>\n      <td>PUT</td>\n      <td>NextSong</td>\n      <td>1.541020e+12</td>\n      <td>1076.0</td>\n      <td>Besos De Ceniza</td>\n      <td>200.0</td>\n      <td>1.543603e+12</td>\n      <td>\"Mozilla/5.0 (Macintosh; Intel Mac OS X 10_9_4...</td>\n      <td>16</td>\n    </tr>\n    <tr>\n      <th>384</th>\n      <td>A Perfect Circle</td>\n      <td>Logged In</td>\n      <td>Rylan</td>\n      <td>M</td>\n      <td>59.0</td>\n      <td>George</td>\n      <td>206.05342</td>\n      <td>paid</td>\n      <td>Birmingham-Hoover, AL</td>\n      <td>PUT</td>\n      <td>NextSong</td>\n      <td>1.541020e+12</td>\n      <td>1076.0</td>\n      <td>Rose</td>\n      <td>200.0</td>\n      <td>1.543604e+12</td>\n      <td>\"Mozilla/5.0 (Macintosh; Intel Mac OS X 10_9_4...</td>\n      <td>16</td>\n    </tr>\n    <tr>\n      <th>385</th>\n      <td>Anberlin</td>\n      <td>Logged In</td>\n      <td>Rylan</td>\n      <td>M</td>\n      <td>60.0</td>\n      <td>George</td>\n      <td>348.68200</td>\n      <td>paid</td>\n      <td>Birmingham-Hoover, AL</td>\n      <td>PUT</td>\n      <td>NextSong</td>\n      <td>1.541020e+12</td>\n      <td>1076.0</td>\n      <td>The Haunting</td>\n      <td>200.0</td>\n      <td>1.543604e+12</td>\n      <td>\"Mozilla/5.0 (Macintosh; Intel Mac OS X 10_9_4...</td>\n      <td>16</td>\n    </tr>\n    <tr>\n      <th>387</th>\n      <td>Deas Vail</td>\n      <td>Logged In</td>\n      <td>Elijah</td>\n      <td>M</td>\n      <td>0.0</td>\n      <td>Davis</td>\n      <td>237.68771</td>\n      <td>free</td>\n      <td>Detroit-Warren-Dearborn, MI</td>\n      <td>PUT</td>\n      <td>NextSong</td>\n      <td>1.540772e+12</td>\n      <td>985.0</td>\n      <td>Anything You Say (Unreleased Version)</td>\n      <td>200.0</td>\n      <td>1.543608e+12</td>\n      <td>\"Mozilla/5.0 (Macintosh; Intel Mac OS X 10_9_4...</td>\n      <td>5</td>\n    </tr>\n  </tbody>\n</table>\n<p>330 rows × 18 columns</p>\n</div>"
     },
     "metadata": {},
     "execution_count": 13
    }
   ],
   "source": [
    "df = df.where(df['page'] == 'NextSong')\n",
    "df = df.dropna(subset=['song', \"ts\", 'artist', 'userId'])\n",
    "df"
   ]
  },
  {
   "cell_type": "code",
   "execution_count": 14,
   "metadata": {},
   "outputs": [],
   "source": [
    "#df = df.dropna()\n",
    "#df"
   ]
  },
  {
   "cell_type": "code",
   "execution_count": 15,
   "metadata": {
    "editable": true
   },
   "outputs": [
    {
     "output_type": "execute_result",
     "data": {
      "text/plain": [
       "     year  week  day\n",
       "0    2018    48    5\n",
       "1    2018    48    5\n",
       "2    2018    48    5\n",
       "3    2018    48    5\n",
       "4    2018    48    5\n",
       "..    ...   ...  ...\n",
       "382  2018    48    5\n",
       "383  2018    48    5\n",
       "384  2018    48    5\n",
       "385  2018    48    5\n",
       "387  2018    48    5\n",
       "\n",
       "[330 rows x 3 columns]"
      ],
      "text/html": "<div>\n<style scoped>\n    .dataframe tbody tr th:only-of-type {\n        vertical-align: middle;\n    }\n\n    .dataframe tbody tr th {\n        vertical-align: top;\n    }\n\n    .dataframe thead th {\n        text-align: right;\n    }\n</style>\n<table border=\"1\" class=\"dataframe\">\n  <thead>\n    <tr style=\"text-align: right;\">\n      <th></th>\n      <th>year</th>\n      <th>week</th>\n      <th>day</th>\n    </tr>\n  </thead>\n  <tbody>\n    <tr>\n      <th>0</th>\n      <td>2018</td>\n      <td>48</td>\n      <td>5</td>\n    </tr>\n    <tr>\n      <th>1</th>\n      <td>2018</td>\n      <td>48</td>\n      <td>5</td>\n    </tr>\n    <tr>\n      <th>2</th>\n      <td>2018</td>\n      <td>48</td>\n      <td>5</td>\n    </tr>\n    <tr>\n      <th>3</th>\n      <td>2018</td>\n      <td>48</td>\n      <td>5</td>\n    </tr>\n    <tr>\n      <th>4</th>\n      <td>2018</td>\n      <td>48</td>\n      <td>5</td>\n    </tr>\n    <tr>\n      <th>...</th>\n      <td>...</td>\n      <td>...</td>\n      <td>...</td>\n    </tr>\n    <tr>\n      <th>382</th>\n      <td>2018</td>\n      <td>48</td>\n      <td>5</td>\n    </tr>\n    <tr>\n      <th>383</th>\n      <td>2018</td>\n      <td>48</td>\n      <td>5</td>\n    </tr>\n    <tr>\n      <th>384</th>\n      <td>2018</td>\n      <td>48</td>\n      <td>5</td>\n    </tr>\n    <tr>\n      <th>385</th>\n      <td>2018</td>\n      <td>48</td>\n      <td>5</td>\n    </tr>\n    <tr>\n      <th>387</th>\n      <td>2018</td>\n      <td>48</td>\n      <td>5</td>\n    </tr>\n  </tbody>\n</table>\n<p>330 rows × 3 columns</p>\n</div>"
     },
     "metadata": {},
     "execution_count": 15
    }
   ],
   "source": [
    "t = pd.to_datetime(df['ts'], unit='ms')\n",
    "t.dt.isocalendar()"
   ]
  },
  {
   "cell_type": "code",
   "execution_count": 16,
   "metadata": {
    "editable": true
   },
   "outputs": [],
   "source": [
    "#timestamp, hour, day, week of year, month, year, and weekday\n",
    "time_data = [t, t.dt.hour, t.dt.day, t.dt.isocalendar().week, t.dt.month, t.dt.isocalendar().year, t.dt.isocalendar().day]\n",
    "column_labels = ['timestamp', 'hour', 'day', 'weekofyear', 'month', 'year', 'weekday']"
   ]
  },
  {
   "cell_type": "code",
   "execution_count": 17,
   "metadata": {
    "editable": true
   },
   "outputs": [],
   "source": [
    "time_df = pd.DataFrame(data=dict(zip(column_labels, time_data)))\n",
    "\n",
    "time_df = time_df.dropna()"
   ]
  },
  {
   "cell_type": "markdown",
   "metadata": {
    "editable": true
   },
   "source": [
    "#### Insert Records into Time Table\n",
    "Implement the `time_table_insert` query in `sql_queries.py` and run the cell below to insert records for the timestamps in this log file into the `time` table. Remember to run `create_tables.py` before running the cell below to ensure you've created/resetted the `time` table in the sparkify database."
   ]
  },
  {
   "cell_type": "code",
   "execution_count": 18,
   "metadata": {
    "editable": true
   },
   "outputs": [],
   "source": [
    "for i, row in time_df.iterrows():\n",
    "    try:\n",
    "        cur.execute(time_table_insert, list(row))\n",
    "        conn.commit()\n",
    "    except:\n",
    "        print(row)"
   ]
  },
  {
   "cell_type": "code",
   "execution_count": null,
   "metadata": {},
   "outputs": [],
   "source": []
  },
  {
   "cell_type": "markdown",
   "metadata": {
    "editable": true
   },
   "source": [
    "Run `test.ipynb` to see if you've successfully added records to this table."
   ]
  },
  {
   "cell_type": "markdown",
   "metadata": {
    "editable": true
   },
   "source": [
    "## #4: `users` Table\n",
    "#### Extract Data for Users Table\n",
    "- Select columns for user ID, first name, last name, gender and level and set to `user_df`"
   ]
  },
  {
   "cell_type": "code",
   "execution_count": 19,
   "metadata": {
    "editable": true
   },
   "outputs": [],
   "source": [
    "user_df = df[['userId', 'firstName', 'lastName', 'gender', 'level']]"
   ]
  },
  {
   "cell_type": "markdown",
   "metadata": {
    "editable": true
   },
   "source": [
    "#### Insert Records into Users Table\n",
    "Implement the `user_table_insert` query in `sql_queries.py` and run the cell below to insert records for the users in this log file into the `users` table. Remember to run `create_tables.py` before running the cell below to ensure you've created/resetted the `users` table in the sparkify database."
   ]
  },
  {
   "cell_type": "code",
   "execution_count": 20,
   "metadata": {
    "editable": true
   },
   "outputs": [],
   "source": [
    "for i, row in user_df.iterrows():\n",
    "    cur.execute(user_table_insert, row)\n",
    "    conn.commit() "
   ]
  },
  {
   "cell_type": "markdown",
   "metadata": {
    "editable": true
   },
   "source": [
    "Run `test.ipynb` to see if you've successfully added records to this table."
   ]
  },
  {
   "cell_type": "markdown",
   "metadata": {
    "editable": true
   },
   "source": [
    "## #5: `songplays` Table\n",
    "#### Extract Data and Songplays Table\n",
    "This one is a little more complicated since information from the songs table, artists table, and original log file are all needed for the `songplays` table. Since the log file does not specify an ID for either the song or the artist, you'll need to get the song ID and artist ID by querying the songs and artists tables to find matches based on song title, artist name, and song duration time.\n",
    "- Implement the `song_select` query in `sql_queries.py` to find the song ID and artist ID based on the title, artist name, and duration of a song.\n",
    "- Select the timestamp, user ID, level, song ID, artist ID, session ID, location, and user agent and set to `songplay_data`\n",
    "\n",
    "#### Insert Records into Songplays Table\n",
    "- Implement the `songplay_table_insert` query and run the cell below to insert records for the songplay actions in this log file into the `songplays` table. Remember to run `create_tables.py` before running the cell below to ensure you've created/resetted the `songplays` table in the sparkify database."
   ]
  },
  {
   "cell_type": "code",
   "execution_count": 21,
   "metadata": {},
   "outputs": [
    {
     "output_type": "execute_result",
     "data": {
      "text/plain": [
       "Index(['artist', 'auth', 'firstName', 'gender', 'itemInSession', 'lastName',\n",
       "       'length', 'level', 'location', 'method', 'page', 'registration',\n",
       "       'sessionId', 'song', 'status', 'ts', 'userAgent', 'userId'],\n",
       "      dtype='object')"
      ]
     },
     "metadata": {},
     "execution_count": 21
    }
   ],
   "source": [
    "#timestamp, user ID, level, song ID, artist ID, session ID, location, and user agent\n",
    "df.columns"
   ]
  },
  {
   "cell_type": "code",
   "execution_count": 22,
   "metadata": {
    "editable": true,
    "tags": []
   },
   "outputs": [
    {
     "output_type": "stream",
     "name": "stdout",
     "text": [
      "None\n",
      "None\n",
      "None\n",
      "None\n",
      "None\n",
      "None\n",
      "None\n",
      "None\n",
      "None\n",
      "None\n",
      "None\n",
      "None\n",
      "None\n",
      "None\n",
      "None\n",
      "None\n",
      "None\n",
      "None\n",
      "None\n",
      "None\n",
      "None\n",
      "None\n",
      "None\n",
      "None\n",
      "None\n",
      "None\n",
      "None\n",
      "None\n",
      "None\n",
      "None\n",
      "None\n",
      "None\n",
      "None\n",
      "None\n",
      "None\n",
      "None\n",
      "None\n",
      "None\n",
      "None\n",
      "None\n",
      "None\n",
      "None\n",
      "None\n",
      "None\n",
      "None\n",
      "None\n",
      "None\n",
      "None\n",
      "None\n",
      "None\n",
      "None\n",
      "None\n",
      "None\n",
      "None\n",
      "None\n",
      "None\n",
      "None\n",
      "None\n",
      "None\n",
      "None\n",
      "None\n",
      "None\n",
      "None\n",
      "None\n",
      "None\n",
      "None\n",
      "None\n",
      "None\n",
      "None\n",
      "None\n",
      "None\n",
      "None\n",
      "None\n",
      "None\n",
      "None\n",
      "None\n",
      "None\n",
      "None\n",
      "None\n",
      "None\n",
      "None\n",
      "None\n",
      "None\n",
      "None\n",
      "None\n",
      "None\n",
      "None\n",
      "None\n",
      "None\n",
      "None\n",
      "None\n",
      "None\n",
      "None\n",
      "None\n",
      "None\n",
      "None\n",
      "None\n",
      "None\n",
      "None\n",
      "None\n",
      "None\n",
      "None\n",
      "None\n",
      "None\n",
      "None\n",
      "None\n",
      "None\n",
      "None\n",
      "None\n",
      "None\n",
      "None\n",
      "None\n",
      "None\n",
      "None\n",
      "None\n",
      "None\n",
      "None\n",
      "None\n",
      "None\n",
      "None\n",
      "None\n",
      "None\n",
      "None\n",
      "None\n",
      "None\n",
      "None\n",
      "None\n",
      "None\n",
      "None\n",
      "None\n",
      "None\n",
      "None\n",
      "None\n",
      "None\n",
      "None\n",
      "None\n",
      "None\n",
      "None\n",
      "None\n",
      "None\n",
      "None\n",
      "None\n",
      "None\n",
      "None\n",
      "None\n",
      "None\n",
      "None\n",
      "None\n",
      "None\n",
      "None\n",
      "None\n",
      "None\n",
      "None\n",
      "None\n",
      "None\n",
      "None\n",
      "None\n",
      "None\n",
      "None\n",
      "None\n",
      "None\n",
      "None\n",
      "None\n",
      "None\n",
      "None\n",
      "None\n",
      "None\n",
      "None\n",
      "None\n",
      "None\n",
      "None\n",
      "None\n",
      "None\n",
      "None\n",
      "None\n",
      "None\n",
      "None\n",
      "None\n",
      "None\n",
      "None\n",
      "None\n",
      "None\n",
      "None\n",
      "None\n",
      "None\n",
      "None\n",
      "None\n",
      "None\n",
      "None\n",
      "None\n",
      "None\n",
      "None\n",
      "None\n",
      "None\n",
      "None\n",
      "None\n",
      "None\n",
      "None\n",
      "None\n",
      "None\n",
      "None\n",
      "None\n",
      "None\n",
      "None\n",
      "None\n",
      "None\n",
      "None\n",
      "None\n",
      "None\n",
      "None\n",
      "None\n",
      "None\n",
      "None\n",
      "None\n",
      "None\n",
      "None\n",
      "None\n",
      "None\n",
      "None\n",
      "None\n",
      "None\n",
      "None\n",
      "None\n",
      "None\n",
      "None\n",
      "None\n",
      "None\n",
      "None\n",
      "None\n",
      "None\n",
      "None\n",
      "None\n",
      "None\n",
      "None\n",
      "None\n",
      "None\n",
      "None\n",
      "None\n",
      "None\n",
      "None\n",
      "None\n",
      "None\n",
      "None\n",
      "None\n",
      "None\n",
      "None\n",
      "None\n",
      "None\n",
      "None\n",
      "None\n",
      "None\n",
      "None\n",
      "None\n",
      "None\n",
      "None\n",
      "None\n",
      "None\n",
      "None\n",
      "None\n",
      "None\n",
      "None\n",
      "None\n",
      "None\n",
      "None\n",
      "None\n",
      "None\n",
      "None\n",
      "None\n",
      "None\n",
      "None\n",
      "None\n",
      "None\n",
      "None\n",
      "None\n",
      "None\n",
      "None\n",
      "None\n",
      "None\n",
      "None\n",
      "None\n",
      "None\n",
      "None\n",
      "None\n",
      "None\n",
      "None\n",
      "None\n",
      "None\n",
      "None\n",
      "None\n",
      "None\n",
      "None\n",
      "None\n",
      "None\n",
      "None\n",
      "None\n",
      "None\n",
      "None\n",
      "None\n",
      "None\n",
      "None\n",
      "None\n",
      "None\n",
      "None\n",
      "None\n",
      "None\n",
      "None\n",
      "None\n",
      "None\n",
      "None\n",
      "None\n",
      "None\n",
      "None\n",
      "None\n",
      "None\n",
      "None\n",
      "None\n",
      "None\n",
      "None\n",
      "None\n",
      "None\n",
      "None\n",
      "None\n",
      "None\n",
      "None\n",
      "None\n",
      "None\n",
      "None\n",
      "None\n",
      "None\n",
      "None\n"
     ]
    }
   ],
   "source": [
    "for index, row in df.iterrows():\n",
    "    # get songid and artistid from song and artist tables\n",
    "    cur.execute(song_select, (row.song, row.artist, row.length))\n",
    "    results = cur.fetchone()\n",
    "    \n",
    "    if results:\n",
    "        songid, artistid = results\n",
    "    else:\n",
    "        songid, artistid = None, None\n",
    "\n",
    "    # insert songplay record\n",
    "    #(time_stamp, user_id, level, song_id, artist_id, session_id, location, user_agent)\n",
    "    \n",
    "    songplay_data = (pd.to_datetime(row.ts, unit='ms'), row.userId, row.level, songid, artistid, row.sessionId, row.location, row.userAgent)\n",
    "    cur.execute(songplay_table_insert, songplay_data)\n",
    "    conn.commit()\n"
   ]
  },
  {
   "cell_type": "code",
   "execution_count": null,
   "metadata": {},
   "outputs": [],
   "source": []
  },
  {
   "cell_type": "markdown",
   "metadata": {
    "editable": true
   },
   "source": [
    "Run `test.ipynb` to see if you've successfully added records to this table."
   ]
  },
  {
   "cell_type": "markdown",
   "metadata": {
    "editable": true
   },
   "source": [
    "# Close Connection to Sparkify Database"
   ]
  },
  {
   "cell_type": "code",
   "execution_count": 22,
   "metadata": {
    "editable": true
   },
   "outputs": [],
   "source": [
    "conn.close()"
   ]
  },
  {
   "cell_type": "markdown",
   "metadata": {
    "editable": true
   },
   "source": [
    "# Implement `etl.py`\n",
    "Use what you've completed in this notebook to implement `etl.py`."
   ]
  },
  {
   "cell_type": "code",
   "execution_count": null,
   "metadata": {
    "editable": true
   },
   "outputs": [],
   "source": []
  },
  {
   "source": [
    "## Explore data from sparkify db\n"
   ],
   "cell_type": "markdown",
   "metadata": {}
  },
  {
   "cell_type": "code",
   "execution_count": 23,
   "metadata": {},
   "outputs": [],
   "source": [
    "conn = psycopg2.connect(\"host=127.0.0.1 dbname=sparkifydb user=postgres password=postgres\")\n",
    "cur = conn.cursor()\n",
    "df_spak = pd.read_sql_query(\"\"\"SELECT * from songplays\"\"\", conn)\n"
   ]
  },
  {
   "cell_type": "code",
   "execution_count": 24,
   "metadata": {},
   "outputs": [
    {
     "output_type": "execute_result",
     "data": {
      "text/plain": [
       "     songplay_id              time_stamp  user_id level song_id artist_id  \\\n",
       "211          212 2018-11-30 14:49:37.796       16  paid    None      None   \n",
       "48            49 2018-11-30 04:42:05.796       49  paid    None      None   \n",
       "252          253 2018-11-30 16:00:31.796       16  paid    None      None   \n",
       "325          326 2018-11-30 18:40:05.796       16  paid    None      None   \n",
       "275          276 2018-11-30 16:49:06.796       16  paid    None      None   \n",
       "165          166 2018-11-30 13:27:49.796       49  paid    None      None   \n",
       "319          320 2018-11-30 18:29:02.796       16  paid    None      None   \n",
       "179          180 2018-11-30 13:59:31.796       50  free    None      None   \n",
       "273          274 2018-11-30 16:43:28.796       33  free    None      None   \n",
       "294          295 2018-11-30 17:39:17.796       16  paid    None      None   \n",
       "282          283 2018-11-30 17:16:14.796       49  paid    None      None   \n",
       "17            18 2018-11-30 02:15:54.796       73  paid    None      None   \n",
       "110          111 2018-11-30 07:36:23.796       49  paid    None      None   \n",
       "296          297 2018-11-30 17:44:00.796       49  paid    None      None   \n",
       "239          240 2018-11-30 15:27:25.796       16  paid    None      None   \n",
       "238          239 2018-11-30 15:25:59.796       36  paid    None      None   \n",
       "254          255 2018-11-30 16:06:15.796       49  paid    None      None   \n",
       "246          247 2018-11-30 15:50:08.796       16  paid    None      None   \n",
       "321          322 2018-11-30 18:32:46.796       49  paid    None      None   \n",
       "83            84 2018-11-30 06:07:57.796       30  paid    None      None   \n",
       "142          143 2018-11-30 11:20:03.796       36  paid    None      None   \n",
       "10            11 2018-11-30 01:44:10.796       73  paid    None      None   \n",
       "269          270 2018-11-30 16:35:57.796       33  free    None      None   \n",
       "121          122 2018-11-30 08:38:38.796       88  paid    None      None   \n",
       "173          174 2018-11-30 13:48:55.796       49  paid    None      None   \n",
       "93            94 2018-11-30 06:33:56.796       49  paid    None      None   \n",
       "188          189 2018-11-30 14:11:25.796       85  paid    None      None   \n",
       "45            46 2018-11-30 04:31:08.796       24  paid    None      None   \n",
       "277          278 2018-11-30 16:55:41.796       16  paid    None      None   \n",
       "91            92 2018-11-30 06:26:25.796       49  paid    None      None   \n",
       "287          288 2018-11-30 17:25:36.796       49  paid    None      None   \n",
       "115          116 2018-11-30 08:16:11.796       88  paid    None      None   \n",
       "16            17 2018-11-30 02:10:21.796       73  paid    None      None   \n",
       "\n",
       "     session_id                                 location  \\\n",
       "211        1076                    Birmingham-Hoover, AL   \n",
       "48         1079        San Francisco-Oakland-Hayward, CA   \n",
       "252        1076                    Birmingham-Hoover, AL   \n",
       "325        1076                    Birmingham-Hoover, AL   \n",
       "275        1076                    Birmingham-Hoover, AL   \n",
       "165        1096        San Francisco-Oakland-Hayward, CA   \n",
       "319        1076                    Birmingham-Hoover, AL   \n",
       "179        1050                    New Haven-Milford, CT   \n",
       "273        1026                               Eugene, OR   \n",
       "294        1076                    Birmingham-Hoover, AL   \n",
       "282        1114        San Francisco-Oakland-Hayward, CA   \n",
       "17         1049      Tampa-St. Petersburg-Clearwater, FL   \n",
       "110        1079        San Francisco-Oakland-Hayward, CA   \n",
       "296        1114        San Francisco-Oakland-Hayward, CA   \n",
       "239        1076                    Birmingham-Hoover, AL   \n",
       "238        1100                    Janesville-Beloit, WI   \n",
       "254        1096        San Francisco-Oakland-Hayward, CA   \n",
       "246        1076                    Birmingham-Hoover, AL   \n",
       "321        1114        San Francisco-Oakland-Hayward, CA   \n",
       "83          884       San Jose-Sunnyvale-Santa Clara, CA   \n",
       "142         998                    Janesville-Beloit, WI   \n",
       "10         1049      Tampa-St. Petersburg-Clearwater, FL   \n",
       "269        1026                               Eugene, OR   \n",
       "121        1075  Sacramento--Roseville--Arden-Arcade, CA   \n",
       "173        1096        San Francisco-Oakland-Hayward, CA   \n",
       "93         1079        San Francisco-Oakland-Hayward, CA   \n",
       "188         977                            Red Bluff, CA   \n",
       "45         1051             Lake Havasu City-Kingman, AZ   \n",
       "277        1076                    Birmingham-Hoover, AL   \n",
       "91         1079        San Francisco-Oakland-Hayward, CA   \n",
       "287        1114        San Francisco-Oakland-Hayward, CA   \n",
       "115        1075  Sacramento--Roseville--Arden-Arcade, CA   \n",
       "16         1049      Tampa-St. Petersburg-Clearwater, FL   \n",
       "\n",
       "                                            user_agent  \n",
       "211  \"Mozilla/5.0 (Macintosh; Intel Mac OS X 10_9_4...  \n",
       "48   Mozilla/5.0 (Windows NT 5.1; rv:31.0) Gecko/20...  \n",
       "252  \"Mozilla/5.0 (Macintosh; Intel Mac OS X 10_9_4...  \n",
       "325  \"Mozilla/5.0 (Macintosh; Intel Mac OS X 10_9_4...  \n",
       "275  \"Mozilla/5.0 (Macintosh; Intel Mac OS X 10_9_4...  \n",
       "165  Mozilla/5.0 (Windows NT 5.1; rv:31.0) Gecko/20...  \n",
       "319  \"Mozilla/5.0 (Macintosh; Intel Mac OS X 10_9_4...  \n",
       "179  \"Mozilla/5.0 (Windows NT 6.3; WOW64) AppleWebK...  \n",
       "273  \"Mozilla/5.0 (Windows NT 6.1; WOW64) AppleWebK...  \n",
       "294  \"Mozilla/5.0 (Macintosh; Intel Mac OS X 10_9_4...  \n",
       "282  Mozilla/5.0 (Windows NT 5.1; rv:31.0) Gecko/20...  \n",
       "17   \"Mozilla/5.0 (Macintosh; Intel Mac OS X 10_9_4...  \n",
       "110  Mozilla/5.0 (Windows NT 5.1; rv:31.0) Gecko/20...  \n",
       "296  Mozilla/5.0 (Windows NT 5.1; rv:31.0) Gecko/20...  \n",
       "239  \"Mozilla/5.0 (Macintosh; Intel Mac OS X 10_9_4...  \n",
       "238  \"Mozilla/5.0 (Windows NT 5.1) AppleWebKit/537....  \n",
       "254  Mozilla/5.0 (Windows NT 5.1; rv:31.0) Gecko/20...  \n",
       "246  \"Mozilla/5.0 (Macintosh; Intel Mac OS X 10_9_4...  \n",
       "321  Mozilla/5.0 (Windows NT 5.1; rv:31.0) Gecko/20...  \n",
       "83   Mozilla/5.0 (Windows NT 6.1; WOW64; rv:31.0) G...  \n",
       "142  \"Mozilla/5.0 (Windows NT 5.1) AppleWebKit/537....  \n",
       "10   \"Mozilla/5.0 (Macintosh; Intel Mac OS X 10_9_4...  \n",
       "269  \"Mozilla/5.0 (Windows NT 6.1; WOW64) AppleWebK...  \n",
       "121  \"Mozilla/5.0 (Macintosh; Intel Mac OS X 10_9_4...  \n",
       "173  Mozilla/5.0 (Windows NT 5.1; rv:31.0) Gecko/20...  \n",
       "93   Mozilla/5.0 (Windows NT 5.1; rv:31.0) Gecko/20...  \n",
       "188  \"Mozilla/5.0 (Macintosh; Intel Mac OS X 10_10_...  \n",
       "45   \"Mozilla/5.0 (Windows NT 6.1; WOW64) AppleWebK...  \n",
       "277  \"Mozilla/5.0 (Macintosh; Intel Mac OS X 10_9_4...  \n",
       "91   Mozilla/5.0 (Windows NT 5.1; rv:31.0) Gecko/20...  \n",
       "287  Mozilla/5.0 (Windows NT 5.1; rv:31.0) Gecko/20...  \n",
       "115  \"Mozilla/5.0 (Macintosh; Intel Mac OS X 10_9_4...  \n",
       "16   \"Mozilla/5.0 (Macintosh; Intel Mac OS X 10_9_4...  "
      ],
      "text/html": "<div>\n<style scoped>\n    .dataframe tbody tr th:only-of-type {\n        vertical-align: middle;\n    }\n\n    .dataframe tbody tr th {\n        vertical-align: top;\n    }\n\n    .dataframe thead th {\n        text-align: right;\n    }\n</style>\n<table border=\"1\" class=\"dataframe\">\n  <thead>\n    <tr style=\"text-align: right;\">\n      <th></th>\n      <th>songplay_id</th>\n      <th>time_stamp</th>\n      <th>user_id</th>\n      <th>level</th>\n      <th>song_id</th>\n      <th>artist_id</th>\n      <th>session_id</th>\n      <th>location</th>\n      <th>user_agent</th>\n    </tr>\n  </thead>\n  <tbody>\n    <tr>\n      <th>211</th>\n      <td>212</td>\n      <td>2018-11-30 14:49:37.796</td>\n      <td>16</td>\n      <td>paid</td>\n      <td>None</td>\n      <td>None</td>\n      <td>1076</td>\n      <td>Birmingham-Hoover, AL</td>\n      <td>\"Mozilla/5.0 (Macintosh; Intel Mac OS X 10_9_4...</td>\n    </tr>\n    <tr>\n      <th>48</th>\n      <td>49</td>\n      <td>2018-11-30 04:42:05.796</td>\n      <td>49</td>\n      <td>paid</td>\n      <td>None</td>\n      <td>None</td>\n      <td>1079</td>\n      <td>San Francisco-Oakland-Hayward, CA</td>\n      <td>Mozilla/5.0 (Windows NT 5.1; rv:31.0) Gecko/20...</td>\n    </tr>\n    <tr>\n      <th>252</th>\n      <td>253</td>\n      <td>2018-11-30 16:00:31.796</td>\n      <td>16</td>\n      <td>paid</td>\n      <td>None</td>\n      <td>None</td>\n      <td>1076</td>\n      <td>Birmingham-Hoover, AL</td>\n      <td>\"Mozilla/5.0 (Macintosh; Intel Mac OS X 10_9_4...</td>\n    </tr>\n    <tr>\n      <th>325</th>\n      <td>326</td>\n      <td>2018-11-30 18:40:05.796</td>\n      <td>16</td>\n      <td>paid</td>\n      <td>None</td>\n      <td>None</td>\n      <td>1076</td>\n      <td>Birmingham-Hoover, AL</td>\n      <td>\"Mozilla/5.0 (Macintosh; Intel Mac OS X 10_9_4...</td>\n    </tr>\n    <tr>\n      <th>275</th>\n      <td>276</td>\n      <td>2018-11-30 16:49:06.796</td>\n      <td>16</td>\n      <td>paid</td>\n      <td>None</td>\n      <td>None</td>\n      <td>1076</td>\n      <td>Birmingham-Hoover, AL</td>\n      <td>\"Mozilla/5.0 (Macintosh; Intel Mac OS X 10_9_4...</td>\n    </tr>\n    <tr>\n      <th>165</th>\n      <td>166</td>\n      <td>2018-11-30 13:27:49.796</td>\n      <td>49</td>\n      <td>paid</td>\n      <td>None</td>\n      <td>None</td>\n      <td>1096</td>\n      <td>San Francisco-Oakland-Hayward, CA</td>\n      <td>Mozilla/5.0 (Windows NT 5.1; rv:31.0) Gecko/20...</td>\n    </tr>\n    <tr>\n      <th>319</th>\n      <td>320</td>\n      <td>2018-11-30 18:29:02.796</td>\n      <td>16</td>\n      <td>paid</td>\n      <td>None</td>\n      <td>None</td>\n      <td>1076</td>\n      <td>Birmingham-Hoover, AL</td>\n      <td>\"Mozilla/5.0 (Macintosh; Intel Mac OS X 10_9_4...</td>\n    </tr>\n    <tr>\n      <th>179</th>\n      <td>180</td>\n      <td>2018-11-30 13:59:31.796</td>\n      <td>50</td>\n      <td>free</td>\n      <td>None</td>\n      <td>None</td>\n      <td>1050</td>\n      <td>New Haven-Milford, CT</td>\n      <td>\"Mozilla/5.0 (Windows NT 6.3; WOW64) AppleWebK...</td>\n    </tr>\n    <tr>\n      <th>273</th>\n      <td>274</td>\n      <td>2018-11-30 16:43:28.796</td>\n      <td>33</td>\n      <td>free</td>\n      <td>None</td>\n      <td>None</td>\n      <td>1026</td>\n      <td>Eugene, OR</td>\n      <td>\"Mozilla/5.0 (Windows NT 6.1; WOW64) AppleWebK...</td>\n    </tr>\n    <tr>\n      <th>294</th>\n      <td>295</td>\n      <td>2018-11-30 17:39:17.796</td>\n      <td>16</td>\n      <td>paid</td>\n      <td>None</td>\n      <td>None</td>\n      <td>1076</td>\n      <td>Birmingham-Hoover, AL</td>\n      <td>\"Mozilla/5.0 (Macintosh; Intel Mac OS X 10_9_4...</td>\n    </tr>\n    <tr>\n      <th>282</th>\n      <td>283</td>\n      <td>2018-11-30 17:16:14.796</td>\n      <td>49</td>\n      <td>paid</td>\n      <td>None</td>\n      <td>None</td>\n      <td>1114</td>\n      <td>San Francisco-Oakland-Hayward, CA</td>\n      <td>Mozilla/5.0 (Windows NT 5.1; rv:31.0) Gecko/20...</td>\n    </tr>\n    <tr>\n      <th>17</th>\n      <td>18</td>\n      <td>2018-11-30 02:15:54.796</td>\n      <td>73</td>\n      <td>paid</td>\n      <td>None</td>\n      <td>None</td>\n      <td>1049</td>\n      <td>Tampa-St. Petersburg-Clearwater, FL</td>\n      <td>\"Mozilla/5.0 (Macintosh; Intel Mac OS X 10_9_4...</td>\n    </tr>\n    <tr>\n      <th>110</th>\n      <td>111</td>\n      <td>2018-11-30 07:36:23.796</td>\n      <td>49</td>\n      <td>paid</td>\n      <td>None</td>\n      <td>None</td>\n      <td>1079</td>\n      <td>San Francisco-Oakland-Hayward, CA</td>\n      <td>Mozilla/5.0 (Windows NT 5.1; rv:31.0) Gecko/20...</td>\n    </tr>\n    <tr>\n      <th>296</th>\n      <td>297</td>\n      <td>2018-11-30 17:44:00.796</td>\n      <td>49</td>\n      <td>paid</td>\n      <td>None</td>\n      <td>None</td>\n      <td>1114</td>\n      <td>San Francisco-Oakland-Hayward, CA</td>\n      <td>Mozilla/5.0 (Windows NT 5.1; rv:31.0) Gecko/20...</td>\n    </tr>\n    <tr>\n      <th>239</th>\n      <td>240</td>\n      <td>2018-11-30 15:27:25.796</td>\n      <td>16</td>\n      <td>paid</td>\n      <td>None</td>\n      <td>None</td>\n      <td>1076</td>\n      <td>Birmingham-Hoover, AL</td>\n      <td>\"Mozilla/5.0 (Macintosh; Intel Mac OS X 10_9_4...</td>\n    </tr>\n    <tr>\n      <th>238</th>\n      <td>239</td>\n      <td>2018-11-30 15:25:59.796</td>\n      <td>36</td>\n      <td>paid</td>\n      <td>None</td>\n      <td>None</td>\n      <td>1100</td>\n      <td>Janesville-Beloit, WI</td>\n      <td>\"Mozilla/5.0 (Windows NT 5.1) AppleWebKit/537....</td>\n    </tr>\n    <tr>\n      <th>254</th>\n      <td>255</td>\n      <td>2018-11-30 16:06:15.796</td>\n      <td>49</td>\n      <td>paid</td>\n      <td>None</td>\n      <td>None</td>\n      <td>1096</td>\n      <td>San Francisco-Oakland-Hayward, CA</td>\n      <td>Mozilla/5.0 (Windows NT 5.1; rv:31.0) Gecko/20...</td>\n    </tr>\n    <tr>\n      <th>246</th>\n      <td>247</td>\n      <td>2018-11-30 15:50:08.796</td>\n      <td>16</td>\n      <td>paid</td>\n      <td>None</td>\n      <td>None</td>\n      <td>1076</td>\n      <td>Birmingham-Hoover, AL</td>\n      <td>\"Mozilla/5.0 (Macintosh; Intel Mac OS X 10_9_4...</td>\n    </tr>\n    <tr>\n      <th>321</th>\n      <td>322</td>\n      <td>2018-11-30 18:32:46.796</td>\n      <td>49</td>\n      <td>paid</td>\n      <td>None</td>\n      <td>None</td>\n      <td>1114</td>\n      <td>San Francisco-Oakland-Hayward, CA</td>\n      <td>Mozilla/5.0 (Windows NT 5.1; rv:31.0) Gecko/20...</td>\n    </tr>\n    <tr>\n      <th>83</th>\n      <td>84</td>\n      <td>2018-11-30 06:07:57.796</td>\n      <td>30</td>\n      <td>paid</td>\n      <td>None</td>\n      <td>None</td>\n      <td>884</td>\n      <td>San Jose-Sunnyvale-Santa Clara, CA</td>\n      <td>Mozilla/5.0 (Windows NT 6.1; WOW64; rv:31.0) G...</td>\n    </tr>\n    <tr>\n      <th>142</th>\n      <td>143</td>\n      <td>2018-11-30 11:20:03.796</td>\n      <td>36</td>\n      <td>paid</td>\n      <td>None</td>\n      <td>None</td>\n      <td>998</td>\n      <td>Janesville-Beloit, WI</td>\n      <td>\"Mozilla/5.0 (Windows NT 5.1) AppleWebKit/537....</td>\n    </tr>\n    <tr>\n      <th>10</th>\n      <td>11</td>\n      <td>2018-11-30 01:44:10.796</td>\n      <td>73</td>\n      <td>paid</td>\n      <td>None</td>\n      <td>None</td>\n      <td>1049</td>\n      <td>Tampa-St. Petersburg-Clearwater, FL</td>\n      <td>\"Mozilla/5.0 (Macintosh; Intel Mac OS X 10_9_4...</td>\n    </tr>\n    <tr>\n      <th>269</th>\n      <td>270</td>\n      <td>2018-11-30 16:35:57.796</td>\n      <td>33</td>\n      <td>free</td>\n      <td>None</td>\n      <td>None</td>\n      <td>1026</td>\n      <td>Eugene, OR</td>\n      <td>\"Mozilla/5.0 (Windows NT 6.1; WOW64) AppleWebK...</td>\n    </tr>\n    <tr>\n      <th>121</th>\n      <td>122</td>\n      <td>2018-11-30 08:38:38.796</td>\n      <td>88</td>\n      <td>paid</td>\n      <td>None</td>\n      <td>None</td>\n      <td>1075</td>\n      <td>Sacramento--Roseville--Arden-Arcade, CA</td>\n      <td>\"Mozilla/5.0 (Macintosh; Intel Mac OS X 10_9_4...</td>\n    </tr>\n    <tr>\n      <th>173</th>\n      <td>174</td>\n      <td>2018-11-30 13:48:55.796</td>\n      <td>49</td>\n      <td>paid</td>\n      <td>None</td>\n      <td>None</td>\n      <td>1096</td>\n      <td>San Francisco-Oakland-Hayward, CA</td>\n      <td>Mozilla/5.0 (Windows NT 5.1; rv:31.0) Gecko/20...</td>\n    </tr>\n    <tr>\n      <th>93</th>\n      <td>94</td>\n      <td>2018-11-30 06:33:56.796</td>\n      <td>49</td>\n      <td>paid</td>\n      <td>None</td>\n      <td>None</td>\n      <td>1079</td>\n      <td>San Francisco-Oakland-Hayward, CA</td>\n      <td>Mozilla/5.0 (Windows NT 5.1; rv:31.0) Gecko/20...</td>\n    </tr>\n    <tr>\n      <th>188</th>\n      <td>189</td>\n      <td>2018-11-30 14:11:25.796</td>\n      <td>85</td>\n      <td>paid</td>\n      <td>None</td>\n      <td>None</td>\n      <td>977</td>\n      <td>Red Bluff, CA</td>\n      <td>\"Mozilla/5.0 (Macintosh; Intel Mac OS X 10_10_...</td>\n    </tr>\n    <tr>\n      <th>45</th>\n      <td>46</td>\n      <td>2018-11-30 04:31:08.796</td>\n      <td>24</td>\n      <td>paid</td>\n      <td>None</td>\n      <td>None</td>\n      <td>1051</td>\n      <td>Lake Havasu City-Kingman, AZ</td>\n      <td>\"Mozilla/5.0 (Windows NT 6.1; WOW64) AppleWebK...</td>\n    </tr>\n    <tr>\n      <th>277</th>\n      <td>278</td>\n      <td>2018-11-30 16:55:41.796</td>\n      <td>16</td>\n      <td>paid</td>\n      <td>None</td>\n      <td>None</td>\n      <td>1076</td>\n      <td>Birmingham-Hoover, AL</td>\n      <td>\"Mozilla/5.0 (Macintosh; Intel Mac OS X 10_9_4...</td>\n    </tr>\n    <tr>\n      <th>91</th>\n      <td>92</td>\n      <td>2018-11-30 06:26:25.796</td>\n      <td>49</td>\n      <td>paid</td>\n      <td>None</td>\n      <td>None</td>\n      <td>1079</td>\n      <td>San Francisco-Oakland-Hayward, CA</td>\n      <td>Mozilla/5.0 (Windows NT 5.1; rv:31.0) Gecko/20...</td>\n    </tr>\n    <tr>\n      <th>287</th>\n      <td>288</td>\n      <td>2018-11-30 17:25:36.796</td>\n      <td>49</td>\n      <td>paid</td>\n      <td>None</td>\n      <td>None</td>\n      <td>1114</td>\n      <td>San Francisco-Oakland-Hayward, CA</td>\n      <td>Mozilla/5.0 (Windows NT 5.1; rv:31.0) Gecko/20...</td>\n    </tr>\n    <tr>\n      <th>115</th>\n      <td>116</td>\n      <td>2018-11-30 08:16:11.796</td>\n      <td>88</td>\n      <td>paid</td>\n      <td>None</td>\n      <td>None</td>\n      <td>1075</td>\n      <td>Sacramento--Roseville--Arden-Arcade, CA</td>\n      <td>\"Mozilla/5.0 (Macintosh; Intel Mac OS X 10_9_4...</td>\n    </tr>\n    <tr>\n      <th>16</th>\n      <td>17</td>\n      <td>2018-11-30 02:10:21.796</td>\n      <td>73</td>\n      <td>paid</td>\n      <td>None</td>\n      <td>None</td>\n      <td>1049</td>\n      <td>Tampa-St. Petersburg-Clearwater, FL</td>\n      <td>\"Mozilla/5.0 (Macintosh; Intel Mac OS X 10_9_4...</td>\n    </tr>\n  </tbody>\n</table>\n</div>"
     },
     "metadata": {},
     "execution_count": 24
    }
   ],
   "source": [
    "df_spak.sample(frac=0.1)"
   ]
  },
  {
   "cell_type": "code",
   "execution_count": null,
   "metadata": {},
   "outputs": [],
   "source": []
  }
 ],
 "metadata": {
  "kernelspec": {
   "name": "python3",
   "display_name": "Python 3.8.5 64-bit ('env_scrimshaw')",
   "metadata": {
    "interpreter": {
     "hash": "b8276e529377cdc0111d8ed03485539d6353c53aef402e7071985e3e3f96169f"
    }
   }
  },
  "language_info": {
   "codemirror_mode": {
    "name": "ipython",
    "version": 3
   },
   "file_extension": ".py",
   "mimetype": "text/x-python",
   "name": "python",
   "nbconvert_exporter": "python",
   "pygments_lexer": "ipython3",
   "version": "3.8.5-final"
  }
 },
 "nbformat": 4,
 "nbformat_minor": 4
}