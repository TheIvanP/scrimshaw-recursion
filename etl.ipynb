{
 "cells": [
  {
   "cell_type": "markdown",
   "metadata": {
    "editable": true
   },
   "source": [
    "# ETL Processes\n",
    "Use this notebook to develop the ETL process for each of your tables before completing the `etl.py` file to load the whole datasets."
   ]
  },
  {
   "cell_type": "code",
   "execution_count": 1,
   "metadata": {
    "editable": true
   },
   "outputs": [],
   "source": [
    "import os\n",
    "import glob\n",
    "import psycopg2\n",
    "import pandas as pd\n",
    "import json\n",
    "from sql_queries import *\n"
   ]
  },
  {
   "cell_type": "code",
   "execution_count": 2,
   "metadata": {
    "editable": true
   },
   "outputs": [],
   "source": [
    "\n",
    "conn = psycopg2.connect(\"host=127.0.0.1 dbname=sparkifydb user=postgres password=postgres\")\n",
    "cur = conn.cursor()"
   ]
  },
  {
   "cell_type": "code",
   "execution_count": 3,
   "metadata": {
    "editable": true
   },
   "outputs": [],
   "source": [
    "def get_files(filepath):\n",
    "    all_files = []\n",
    "    for root, dirs, files in os.walk(filepath):\n",
    "        files = glob.glob(os.path.join(root,'*.json'))\n",
    "        for f in files :\n",
    "            all_files.append(os.path.abspath(f))\n",
    "    \n",
    "    return all_files"
   ]
  },
  {
   "cell_type": "markdown",
   "metadata": {
    "editable": true
   },
   "source": [
    "# Process `song_data`\n",
    "In this first part, you'll perform ETL on the first dataset, `song_data`, to create the `songs` and `artists` dimensional tables.\n",
    "\n",
    "Let's perform ETL on a single song file and load a single record into each table to start.\n",
    "- Use the `get_files` function provided above to get a list of all song JSON files in `data/song_data`\n",
    "- Select the first song in this list\n",
    "- Read the song file and view the data"
   ]
  },
  {
   "cell_type": "code",
   "execution_count": 4,
   "metadata": {
    "editable": true
   },
   "outputs": [
    {
     "output_type": "execute_result",
     "data": {
      "text/plain": [
       "['/Users/ivanpedersen/Documents/dev/scrimshaw-recursion/data/song_data/A/A/A/TRAAAAW128F429D538.json',\n",
       " '/Users/ivanpedersen/Documents/dev/scrimshaw-recursion/data/song_data/A/A/A/TRAAABD128F429CF47.json',\n",
       " '/Users/ivanpedersen/Documents/dev/scrimshaw-recursion/data/song_data/A/A/A/TRAAADZ128F9348C2E.json',\n",
       " '/Users/ivanpedersen/Documents/dev/scrimshaw-recursion/data/song_data/A/A/A/TRAAAEF128F4273421.json',\n",
       " '/Users/ivanpedersen/Documents/dev/scrimshaw-recursion/data/song_data/A/A/A/TRAAAFD128F92F423A.json',\n",
       " '/Users/ivanpedersen/Documents/dev/scrimshaw-recursion/data/song_data/A/A/A/TRAAAMO128F1481E7F.json',\n",
       " '/Users/ivanpedersen/Documents/dev/scrimshaw-recursion/data/song_data/A/A/A/TRAAAMQ128F1460CD3.json',\n",
       " '/Users/ivanpedersen/Documents/dev/scrimshaw-recursion/data/song_data/A/A/A/TRAAAPK128E0786D96.json',\n",
       " '/Users/ivanpedersen/Documents/dev/scrimshaw-recursion/data/song_data/A/A/A/TRAAARJ128F9320760.json',\n",
       " '/Users/ivanpedersen/Documents/dev/scrimshaw-recursion/data/song_data/A/A/A/TRAAAVG12903CFA543.json',\n",
       " '/Users/ivanpedersen/Documents/dev/scrimshaw-recursion/data/song_data/A/A/A/TRAAAVO128F93133D4.json',\n",
       " '/Users/ivanpedersen/Documents/dev/scrimshaw-recursion/data/song_data/A/A/B/TRAABCL128F4286650.json',\n",
       " '/Users/ivanpedersen/Documents/dev/scrimshaw-recursion/data/song_data/A/A/B/TRAABDL12903CAABBA.json',\n",
       " '/Users/ivanpedersen/Documents/dev/scrimshaw-recursion/data/song_data/A/A/B/TRAABJL12903CDCF1A.json',\n",
       " '/Users/ivanpedersen/Documents/dev/scrimshaw-recursion/data/song_data/A/A/B/TRAABJV128F1460C49.json',\n",
       " '/Users/ivanpedersen/Documents/dev/scrimshaw-recursion/data/song_data/A/A/B/TRAABLR128F423B7E3.json',\n",
       " '/Users/ivanpedersen/Documents/dev/scrimshaw-recursion/data/song_data/A/A/B/TRAABNV128F425CEE1.json',\n",
       " '/Users/ivanpedersen/Documents/dev/scrimshaw-recursion/data/song_data/A/A/B/TRAABRB128F9306DD5.json',\n",
       " '/Users/ivanpedersen/Documents/dev/scrimshaw-recursion/data/song_data/A/A/B/TRAABVM128F92CA9DC.json',\n",
       " '/Users/ivanpedersen/Documents/dev/scrimshaw-recursion/data/song_data/A/A/B/TRAABXG128F9318EBD.json',\n",
       " '/Users/ivanpedersen/Documents/dev/scrimshaw-recursion/data/song_data/A/A/B/TRAABYN12903CFD305.json',\n",
       " '/Users/ivanpedersen/Documents/dev/scrimshaw-recursion/data/song_data/A/A/B/TRAABYW128F4244559.json',\n",
       " '/Users/ivanpedersen/Documents/dev/scrimshaw-recursion/data/song_data/A/A/C/TRAACCG128F92E8A55.json',\n",
       " '/Users/ivanpedersen/Documents/dev/scrimshaw-recursion/data/song_data/A/A/C/TRAACER128F4290F96.json',\n",
       " '/Users/ivanpedersen/Documents/dev/scrimshaw-recursion/data/song_data/A/A/C/TRAACFV128F935E50B.json',\n",
       " '/Users/ivanpedersen/Documents/dev/scrimshaw-recursion/data/song_data/A/A/C/TRAACHN128F1489601.json',\n",
       " '/Users/ivanpedersen/Documents/dev/scrimshaw-recursion/data/song_data/A/A/C/TRAACIW12903CC0F6D.json',\n",
       " '/Users/ivanpedersen/Documents/dev/scrimshaw-recursion/data/song_data/A/A/C/TRAACLV128F427E123.json',\n",
       " '/Users/ivanpedersen/Documents/dev/scrimshaw-recursion/data/song_data/A/A/C/TRAACNS128F14A2DF5.json',\n",
       " '/Users/ivanpedersen/Documents/dev/scrimshaw-recursion/data/song_data/A/A/C/TRAACOW128F933E35F.json',\n",
       " '/Users/ivanpedersen/Documents/dev/scrimshaw-recursion/data/song_data/A/A/C/TRAACPE128F421C1B9.json',\n",
       " '/Users/ivanpedersen/Documents/dev/scrimshaw-recursion/data/song_data/A/A/C/TRAACQT128F9331780.json',\n",
       " '/Users/ivanpedersen/Documents/dev/scrimshaw-recursion/data/song_data/A/A/C/TRAACSL128F93462F4.json',\n",
       " '/Users/ivanpedersen/Documents/dev/scrimshaw-recursion/data/song_data/A/A/C/TRAACTB12903CAAF15.json',\n",
       " '/Users/ivanpedersen/Documents/dev/scrimshaw-recursion/data/song_data/A/A/C/TRAACVS128E078BE39.json',\n",
       " '/Users/ivanpedersen/Documents/dev/scrimshaw-recursion/data/song_data/A/A/C/TRAACZK128F4243829.json',\n",
       " '/Users/ivanpedersen/Documents/dev/scrimshaw-recursion/data/song_data/A/B/A/TRABACN128F425B784.json',\n",
       " '/Users/ivanpedersen/Documents/dev/scrimshaw-recursion/data/song_data/A/B/A/TRABAFJ128F42AF24E.json',\n",
       " '/Users/ivanpedersen/Documents/dev/scrimshaw-recursion/data/song_data/A/B/A/TRABAFP128F931E9A1.json',\n",
       " '/Users/ivanpedersen/Documents/dev/scrimshaw-recursion/data/song_data/A/B/A/TRABAIO128F42938F9.json',\n",
       " '/Users/ivanpedersen/Documents/dev/scrimshaw-recursion/data/song_data/A/B/A/TRABATO128F42627E9.json',\n",
       " '/Users/ivanpedersen/Documents/dev/scrimshaw-recursion/data/song_data/A/B/A/TRABAVQ12903CBF7E0.json',\n",
       " '/Users/ivanpedersen/Documents/dev/scrimshaw-recursion/data/song_data/A/B/A/TRABAWW128F4250A31.json',\n",
       " '/Users/ivanpedersen/Documents/dev/scrimshaw-recursion/data/song_data/A/B/A/TRABAXL128F424FC50.json',\n",
       " '/Users/ivanpedersen/Documents/dev/scrimshaw-recursion/data/song_data/A/B/A/TRABAXR128F426515F.json',\n",
       " '/Users/ivanpedersen/Documents/dev/scrimshaw-recursion/data/song_data/A/B/A/TRABAXV128F92F6AE3.json',\n",
       " '/Users/ivanpedersen/Documents/dev/scrimshaw-recursion/data/song_data/A/B/A/TRABAZH128F930419A.json',\n",
       " '/Users/ivanpedersen/Documents/dev/scrimshaw-recursion/data/song_data/A/B/B/TRABBAM128F429D223.json',\n",
       " '/Users/ivanpedersen/Documents/dev/scrimshaw-recursion/data/song_data/A/B/B/TRABBBV128F42967D7.json',\n",
       " '/Users/ivanpedersen/Documents/dev/scrimshaw-recursion/data/song_data/A/B/B/TRABBJE12903CDB442.json',\n",
       " '/Users/ivanpedersen/Documents/dev/scrimshaw-recursion/data/song_data/A/B/B/TRABBKX128F4285205.json',\n",
       " '/Users/ivanpedersen/Documents/dev/scrimshaw-recursion/data/song_data/A/B/B/TRABBLU128F93349CF.json',\n",
       " '/Users/ivanpedersen/Documents/dev/scrimshaw-recursion/data/song_data/A/B/B/TRABBNP128F932546F.json',\n",
       " '/Users/ivanpedersen/Documents/dev/scrimshaw-recursion/data/song_data/A/B/B/TRABBOP128F931B50D.json',\n",
       " '/Users/ivanpedersen/Documents/dev/scrimshaw-recursion/data/song_data/A/B/B/TRABBOR128F4286200.json',\n",
       " '/Users/ivanpedersen/Documents/dev/scrimshaw-recursion/data/song_data/A/B/B/TRABBTA128F933D304.json',\n",
       " '/Users/ivanpedersen/Documents/dev/scrimshaw-recursion/data/song_data/A/B/B/TRABBVJ128F92F7EAA.json',\n",
       " '/Users/ivanpedersen/Documents/dev/scrimshaw-recursion/data/song_data/A/B/B/TRABBXU128F92FEF48.json',\n",
       " '/Users/ivanpedersen/Documents/dev/scrimshaw-recursion/data/song_data/A/B/B/TRABBZN12903CD9297.json',\n",
       " '/Users/ivanpedersen/Documents/dev/scrimshaw-recursion/data/song_data/A/B/C/TRABCAJ12903CDFCC2.json',\n",
       " '/Users/ivanpedersen/Documents/dev/scrimshaw-recursion/data/song_data/A/B/C/TRABCEC128F426456E.json',\n",
       " '/Users/ivanpedersen/Documents/dev/scrimshaw-recursion/data/song_data/A/B/C/TRABCEI128F424C983.json',\n",
       " '/Users/ivanpedersen/Documents/dev/scrimshaw-recursion/data/song_data/A/B/C/TRABCFL128F149BB0D.json',\n",
       " '/Users/ivanpedersen/Documents/dev/scrimshaw-recursion/data/song_data/A/B/C/TRABCIX128F4265903.json',\n",
       " '/Users/ivanpedersen/Documents/dev/scrimshaw-recursion/data/song_data/A/B/C/TRABCKL128F423A778.json',\n",
       " '/Users/ivanpedersen/Documents/dev/scrimshaw-recursion/data/song_data/A/B/C/TRABCPZ128F4275C32.json',\n",
       " '/Users/ivanpedersen/Documents/dev/scrimshaw-recursion/data/song_data/A/B/C/TRABCRU128F423F449.json',\n",
       " '/Users/ivanpedersen/Documents/dev/scrimshaw-recursion/data/song_data/A/B/C/TRABCTK128F934B224.json',\n",
       " '/Users/ivanpedersen/Documents/dev/scrimshaw-recursion/data/song_data/A/B/C/TRABCUQ128E0783E2B.json',\n",
       " '/Users/ivanpedersen/Documents/dev/scrimshaw-recursion/data/song_data/A/B/C/TRABCXB128F4286BD3.json',\n",
       " '/Users/ivanpedersen/Documents/dev/scrimshaw-recursion/data/song_data/A/B/C/TRABCYE128F934CE1D.json']"
      ]
     },
     "metadata": {},
     "execution_count": 4
    }
   ],
   "source": [
    "song_files = get_files(\"./data/song_data/\")\n",
    "sorted(song_files)"
   ]
  },
  {
   "cell_type": "code",
   "execution_count": 5,
   "metadata": {
    "editable": true
   },
   "outputs": [
    {
     "output_type": "execute_result",
     "data": {
      "text/plain": [
       "   num_songs           artist_id  artist_latitude  artist_longitude  \\\n",
       "0          1  ARD7TVE1187B99BFB1              NaN               NaN   \n",
       "\n",
       "   artist_location artist_name             song_id             title  \\\n",
       "0  California - LA      Casual  SOMZWCG12A8C13C480  I Didn't Mean To   \n",
       "\n",
       "    duration  year  \n",
       "0  218.93179     0  "
      ],
      "text/html": "<div>\n<style scoped>\n    .dataframe tbody tr th:only-of-type {\n        vertical-align: middle;\n    }\n\n    .dataframe tbody tr th {\n        vertical-align: top;\n    }\n\n    .dataframe thead th {\n        text-align: right;\n    }\n</style>\n<table border=\"1\" class=\"dataframe\">\n  <thead>\n    <tr style=\"text-align: right;\">\n      <th></th>\n      <th>num_songs</th>\n      <th>artist_id</th>\n      <th>artist_latitude</th>\n      <th>artist_longitude</th>\n      <th>artist_location</th>\n      <th>artist_name</th>\n      <th>song_id</th>\n      <th>title</th>\n      <th>duration</th>\n      <th>year</th>\n    </tr>\n  </thead>\n  <tbody>\n    <tr>\n      <th>0</th>\n      <td>1</td>\n      <td>ARD7TVE1187B99BFB1</td>\n      <td>NaN</td>\n      <td>NaN</td>\n      <td>California - LA</td>\n      <td>Casual</td>\n      <td>SOMZWCG12A8C13C480</td>\n      <td>I Didn't Mean To</td>\n      <td>218.93179</td>\n      <td>0</td>\n    </tr>\n  </tbody>\n</table>\n</div>"
     },
     "metadata": {},
     "execution_count": 5
    }
   ],
   "source": [
    "df=pd.read_json(sorted(song_files)[0], lines=True)\n",
    "df"
   ]
  },
  {
   "cell_type": "markdown",
   "metadata": {
    "editable": true
   },
   "source": [
    "## #1: `songs` Table\n",
    "#### Extract Data for Songs Table\n",
    "- Select columns for song ID, title, artist ID, year, and duration\n",
    "- Use `df.values` to select just the values from the dataframe\n",
    "- Index to select the first (only) record in the dataframe\n",
    "- Convert the array to a list and set it to `song_data`"
   ]
  },
  {
   "cell_type": "code",
   "execution_count": 6,
   "metadata": {
    "editable": true
   },
   "outputs": [
    {
     "output_type": "execute_result",
     "data": {
      "text/plain": [
       "['SOMZWCG12A8C13C480', \"I Didn't Mean To\", 218.93179, 'ARD7TVE1187B99BFB1']"
      ]
     },
     "metadata": {},
     "execution_count": 6
    }
   ],
   "source": [
    "song_data = df[['song_id', 'title', 'duration', 'artist_id']].iloc[0].tolist()\n",
    "song_data"
   ]
  },
  {
   "source": [
    "#### Insert Record into Song Table\n",
    "Implement the `song_table_insert` query in `sql_queries.py` and run the cell below to insert a record for this song into the `songs` table. Remember to run `create_tables.py` before running the cell below to ensure you've created/resetted the `songs` table in the sparkify database."
   ],
   "cell_type": "markdown",
   "metadata": {
    "editable": true
   }
  },
  {
   "cell_type": "code",
   "execution_count": 7,
   "metadata": {
    "editable": true
   },
   "outputs": [],
   "source": [
    "cur.execute(song_table_insert, song_data)\n",
    "conn.commit()"
   ]
  },
  {
   "cell_type": "markdown",
   "metadata": {
    "editable": true
   },
   "source": [
    "Run `test.ipynb` to see if you've successfully added a record to this table."
   ]
  },
  {
   "cell_type": "markdown",
   "metadata": {
    "editable": true
   },
   "source": [
    "## #2: `artists` Table\n",
    "#### Extract Data for Artists Table\n",
    "- Select columns for artist ID, name, location, latitude, and longitude\n",
    "- Use `df.values` to select just the values from the dataframe\n",
    "- Index to select the first (only) record in the dataframe\n",
    "- Convert the array to a list and set it to `artist_data`"
   ]
  },
  {
   "cell_type": "code",
   "execution_count": 8,
   "metadata": {
    "editable": true
   },
   "outputs": [
    {
     "output_type": "execute_result",
     "data": {
      "text/plain": [
       "['ARD7TVE1187B99BFB1', 'Casual', 'California - LA', nan, nan]"
      ]
     },
     "metadata": {},
     "execution_count": 8
    }
   ],
   "source": [
    "artist_data = df[['artist_id','artist_name', 'artist_location','artist_latitude', 'artist_longitude']].iloc[0].tolist()\n",
    "artist_data"
   ]
  },
  {
   "cell_type": "markdown",
   "metadata": {
    "editable": true
   },
   "source": [
    "#### Insert Record into Artist Table\n",
    "Implement the `artist_table_insert` query in `sql_queries.py` and run the cell below to insert a record for this song's artist into the `artists` table. Remember to run `create_tables.py` before running the cell below to ensure you've created/resetted the `artists` table in the sparkify database."
   ]
  },
  {
   "cell_type": "code",
   "execution_count": 9,
   "metadata": {
    "editable": true
   },
   "outputs": [],
   "source": [
    "cur.execute(artist_table_insert, artist_data)\n",
    "conn.commit()"
   ]
  },
  {
   "cell_type": "markdown",
   "metadata": {
    "editable": true
   },
   "source": [
    "Run `test.ipynb` to see if you've successfully added a record to this table."
   ]
  },
  {
   "cell_type": "markdown",
   "metadata": {
    "editable": true
   },
   "source": [
    "# Process `log_data`\n",
    "In this part, you'll perform ETL on the second dataset, `log_data`, to create the `time` and `users` dimensional tables, as well as the `songplays` fact table.\n",
    "\n",
    "Let's perform ETL on a single log file and load a single record into each table.\n",
    "- Use the `get_files` function provided above to get a list of all log JSON files in `data/log_data`\n",
    "- Select the first log file in this list\n",
    "- Read the log file and view the data"
   ]
  },
  {
   "cell_type": "code",
   "execution_count": 10,
   "metadata": {
    "editable": true
   },
   "outputs": [
    {
     "output_type": "execute_result",
     "data": {
      "text/plain": [
       "['/Users/ivanpedersen/Documents/dev/scrimshaw-recursion/data/log_data/2018/11/2018-11-01-events.json',\n",
       " '/Users/ivanpedersen/Documents/dev/scrimshaw-recursion/data/log_data/2018/11/2018-11-02-events.json',\n",
       " '/Users/ivanpedersen/Documents/dev/scrimshaw-recursion/data/log_data/2018/11/2018-11-03-events.json',\n",
       " '/Users/ivanpedersen/Documents/dev/scrimshaw-recursion/data/log_data/2018/11/2018-11-04-events.json',\n",
       " '/Users/ivanpedersen/Documents/dev/scrimshaw-recursion/data/log_data/2018/11/2018-11-05-events.json',\n",
       " '/Users/ivanpedersen/Documents/dev/scrimshaw-recursion/data/log_data/2018/11/2018-11-06-events.json',\n",
       " '/Users/ivanpedersen/Documents/dev/scrimshaw-recursion/data/log_data/2018/11/2018-11-07-events.json',\n",
       " '/Users/ivanpedersen/Documents/dev/scrimshaw-recursion/data/log_data/2018/11/2018-11-08-events.json',\n",
       " '/Users/ivanpedersen/Documents/dev/scrimshaw-recursion/data/log_data/2018/11/2018-11-09-events.json',\n",
       " '/Users/ivanpedersen/Documents/dev/scrimshaw-recursion/data/log_data/2018/11/2018-11-10-events.json',\n",
       " '/Users/ivanpedersen/Documents/dev/scrimshaw-recursion/data/log_data/2018/11/2018-11-11-events.json',\n",
       " '/Users/ivanpedersen/Documents/dev/scrimshaw-recursion/data/log_data/2018/11/2018-11-12-events.json',\n",
       " '/Users/ivanpedersen/Documents/dev/scrimshaw-recursion/data/log_data/2018/11/2018-11-13-events.json',\n",
       " '/Users/ivanpedersen/Documents/dev/scrimshaw-recursion/data/log_data/2018/11/2018-11-14-events.json',\n",
       " '/Users/ivanpedersen/Documents/dev/scrimshaw-recursion/data/log_data/2018/11/2018-11-15-events.json',\n",
       " '/Users/ivanpedersen/Documents/dev/scrimshaw-recursion/data/log_data/2018/11/2018-11-16-events.json',\n",
       " '/Users/ivanpedersen/Documents/dev/scrimshaw-recursion/data/log_data/2018/11/2018-11-17-events.json',\n",
       " '/Users/ivanpedersen/Documents/dev/scrimshaw-recursion/data/log_data/2018/11/2018-11-18-events.json',\n",
       " '/Users/ivanpedersen/Documents/dev/scrimshaw-recursion/data/log_data/2018/11/2018-11-19-events.json',\n",
       " '/Users/ivanpedersen/Documents/dev/scrimshaw-recursion/data/log_data/2018/11/2018-11-20-events.json',\n",
       " '/Users/ivanpedersen/Documents/dev/scrimshaw-recursion/data/log_data/2018/11/2018-11-21-events.json',\n",
       " '/Users/ivanpedersen/Documents/dev/scrimshaw-recursion/data/log_data/2018/11/2018-11-22-events.json',\n",
       " '/Users/ivanpedersen/Documents/dev/scrimshaw-recursion/data/log_data/2018/11/2018-11-23-events.json',\n",
       " '/Users/ivanpedersen/Documents/dev/scrimshaw-recursion/data/log_data/2018/11/2018-11-24-events.json',\n",
       " '/Users/ivanpedersen/Documents/dev/scrimshaw-recursion/data/log_data/2018/11/2018-11-25-events.json',\n",
       " '/Users/ivanpedersen/Documents/dev/scrimshaw-recursion/data/log_data/2018/11/2018-11-26-events.json',\n",
       " '/Users/ivanpedersen/Documents/dev/scrimshaw-recursion/data/log_data/2018/11/2018-11-27-events.json',\n",
       " '/Users/ivanpedersen/Documents/dev/scrimshaw-recursion/data/log_data/2018/11/2018-11-28-events.json',\n",
       " '/Users/ivanpedersen/Documents/dev/scrimshaw-recursion/data/log_data/2018/11/2018-11-29-events.json',\n",
       " '/Users/ivanpedersen/Documents/dev/scrimshaw-recursion/data/log_data/2018/11/2018-11-30-events.json']"
      ]
     },
     "metadata": {},
     "execution_count": 10
    }
   ],
   "source": [
    "log_files = get_files(\"./data/log_data/\")\n",
    "sorted(log_files)"
   ]
  },
  {
   "cell_type": "code",
   "execution_count": 11,
   "metadata": {
    "editable": true
   },
   "outputs": [
    {
     "output_type": "execute_result",
     "data": {
      "text/plain": [
       "               artist       auth firstName gender  itemInSession lastName  \\\n",
       "0       Stephen Lynch  Logged In    Jayden      M              0     Bell   \n",
       "1             Manowar  Logged In     Jacob      M              0    Klein   \n",
       "2           Morcheeba  Logged In     Jacob      M              1    Klein   \n",
       "3            Maroon 5  Logged In     Jacob      M              2    Klein   \n",
       "4               Train  Logged In     Jacob      M              3    Klein   \n",
       "..                ...        ...       ...    ...            ...      ...   \n",
       "383        Timbiriche  Logged In     Rylan      M             58   George   \n",
       "384  A Perfect Circle  Logged In     Rylan      M             59   George   \n",
       "385          Anberlin  Logged In     Rylan      M             60   George   \n",
       "386              None  Logged In     Rylan      M             61   George   \n",
       "387         Deas Vail  Logged In    Elijah      M              0    Davis   \n",
       "\n",
       "        length level                             location method       page  \\\n",
       "0    182.85669  free      Dallas-Fort Worth-Arlington, TX    PUT   NextSong   \n",
       "1    247.56200  paid  Tampa-St. Petersburg-Clearwater, FL    PUT   NextSong   \n",
       "2    257.41016  paid  Tampa-St. Petersburg-Clearwater, FL    PUT   NextSong   \n",
       "3    231.23546  paid  Tampa-St. Petersburg-Clearwater, FL    PUT   NextSong   \n",
       "4    216.76363  paid  Tampa-St. Petersburg-Clearwater, FL    PUT   NextSong   \n",
       "..         ...   ...                                  ...    ...        ...   \n",
       "383  202.60526  paid                Birmingham-Hoover, AL    PUT   NextSong   \n",
       "384  206.05342  paid                Birmingham-Hoover, AL    PUT   NextSong   \n",
       "385  348.68200  paid                Birmingham-Hoover, AL    PUT   NextSong   \n",
       "386        NaN  paid                Birmingham-Hoover, AL    GET  Downgrade   \n",
       "387  237.68771  free          Detroit-Warren-Dearborn, MI    PUT   NextSong   \n",
       "\n",
       "     registration  sessionId                                   song  status  \\\n",
       "0    1.540992e+12        829                      Jim Henson's Dead     200   \n",
       "1    1.540558e+12       1049                            Shell Shock     200   \n",
       "2    1.540558e+12       1049   Women Lose Weight (Feat: Slick Rick)     200   \n",
       "3    1.540558e+12       1049              Won't Go Home Without You     200   \n",
       "4    1.540558e+12       1049                       Hey_ Soul Sister     200   \n",
       "..            ...        ...                                    ...     ...   \n",
       "383  1.541020e+12       1076                        Besos De Ceniza     200   \n",
       "384  1.541020e+12       1076                                   Rose     200   \n",
       "385  1.541020e+12       1076                           The Haunting     200   \n",
       "386  1.541020e+12       1076                                   None     200   \n",
       "387  1.540772e+12        985  Anything You Say (Unreleased Version)     200   \n",
       "\n",
       "                ts                                          userAgent userId  \n",
       "0    1543537327796  Mozilla/5.0 (compatible; MSIE 10.0; Windows NT...     91  \n",
       "1    1543540121796  \"Mozilla/5.0 (Macintosh; Intel Mac OS X 10_9_4...     73  \n",
       "2    1543540368796  \"Mozilla/5.0 (Macintosh; Intel Mac OS X 10_9_4...     73  \n",
       "3    1543540625796  \"Mozilla/5.0 (Macintosh; Intel Mac OS X 10_9_4...     73  \n",
       "4    1543540856796  \"Mozilla/5.0 (Macintosh; Intel Mac OS X 10_9_4...     73  \n",
       "..             ...                                                ...    ...  \n",
       "383  1543603476796  \"Mozilla/5.0 (Macintosh; Intel Mac OS X 10_9_4...     16  \n",
       "384  1543603678796  \"Mozilla/5.0 (Macintosh; Intel Mac OS X 10_9_4...     16  \n",
       "385  1543603884796  \"Mozilla/5.0 (Macintosh; Intel Mac OS X 10_9_4...     16  \n",
       "386  1543603993796  \"Mozilla/5.0 (Macintosh; Intel Mac OS X 10_9_4...     16  \n",
       "387  1543607664796  \"Mozilla/5.0 (Macintosh; Intel Mac OS X 10_9_4...      5  \n",
       "\n",
       "[388 rows x 18 columns]"
      ],
      "text/html": "<div>\n<style scoped>\n    .dataframe tbody tr th:only-of-type {\n        vertical-align: middle;\n    }\n\n    .dataframe tbody tr th {\n        vertical-align: top;\n    }\n\n    .dataframe thead th {\n        text-align: right;\n    }\n</style>\n<table border=\"1\" class=\"dataframe\">\n  <thead>\n    <tr style=\"text-align: right;\">\n      <th></th>\n      <th>artist</th>\n      <th>auth</th>\n      <th>firstName</th>\n      <th>gender</th>\n      <th>itemInSession</th>\n      <th>lastName</th>\n      <th>length</th>\n      <th>level</th>\n      <th>location</th>\n      <th>method</th>\n      <th>page</th>\n      <th>registration</th>\n      <th>sessionId</th>\n      <th>song</th>\n      <th>status</th>\n      <th>ts</th>\n      <th>userAgent</th>\n      <th>userId</th>\n    </tr>\n  </thead>\n  <tbody>\n    <tr>\n      <th>0</th>\n      <td>Stephen Lynch</td>\n      <td>Logged In</td>\n      <td>Jayden</td>\n      <td>M</td>\n      <td>0</td>\n      <td>Bell</td>\n      <td>182.85669</td>\n      <td>free</td>\n      <td>Dallas-Fort Worth-Arlington, TX</td>\n      <td>PUT</td>\n      <td>NextSong</td>\n      <td>1.540992e+12</td>\n      <td>829</td>\n      <td>Jim Henson's Dead</td>\n      <td>200</td>\n      <td>1543537327796</td>\n      <td>Mozilla/5.0 (compatible; MSIE 10.0; Windows NT...</td>\n      <td>91</td>\n    </tr>\n    <tr>\n      <th>1</th>\n      <td>Manowar</td>\n      <td>Logged In</td>\n      <td>Jacob</td>\n      <td>M</td>\n      <td>0</td>\n      <td>Klein</td>\n      <td>247.56200</td>\n      <td>paid</td>\n      <td>Tampa-St. Petersburg-Clearwater, FL</td>\n      <td>PUT</td>\n      <td>NextSong</td>\n      <td>1.540558e+12</td>\n      <td>1049</td>\n      <td>Shell Shock</td>\n      <td>200</td>\n      <td>1543540121796</td>\n      <td>\"Mozilla/5.0 (Macintosh; Intel Mac OS X 10_9_4...</td>\n      <td>73</td>\n    </tr>\n    <tr>\n      <th>2</th>\n      <td>Morcheeba</td>\n      <td>Logged In</td>\n      <td>Jacob</td>\n      <td>M</td>\n      <td>1</td>\n      <td>Klein</td>\n      <td>257.41016</td>\n      <td>paid</td>\n      <td>Tampa-St. Petersburg-Clearwater, FL</td>\n      <td>PUT</td>\n      <td>NextSong</td>\n      <td>1.540558e+12</td>\n      <td>1049</td>\n      <td>Women Lose Weight (Feat: Slick Rick)</td>\n      <td>200</td>\n      <td>1543540368796</td>\n      <td>\"Mozilla/5.0 (Macintosh; Intel Mac OS X 10_9_4...</td>\n      <td>73</td>\n    </tr>\n    <tr>\n      <th>3</th>\n      <td>Maroon 5</td>\n      <td>Logged In</td>\n      <td>Jacob</td>\n      <td>M</td>\n      <td>2</td>\n      <td>Klein</td>\n      <td>231.23546</td>\n      <td>paid</td>\n      <td>Tampa-St. Petersburg-Clearwater, FL</td>\n      <td>PUT</td>\n      <td>NextSong</td>\n      <td>1.540558e+12</td>\n      <td>1049</td>\n      <td>Won't Go Home Without You</td>\n      <td>200</td>\n      <td>1543540625796</td>\n      <td>\"Mozilla/5.0 (Macintosh; Intel Mac OS X 10_9_4...</td>\n      <td>73</td>\n    </tr>\n    <tr>\n      <th>4</th>\n      <td>Train</td>\n      <td>Logged In</td>\n      <td>Jacob</td>\n      <td>M</td>\n      <td>3</td>\n      <td>Klein</td>\n      <td>216.76363</td>\n      <td>paid</td>\n      <td>Tampa-St. Petersburg-Clearwater, FL</td>\n      <td>PUT</td>\n      <td>NextSong</td>\n      <td>1.540558e+12</td>\n      <td>1049</td>\n      <td>Hey_ Soul Sister</td>\n      <td>200</td>\n      <td>1543540856796</td>\n      <td>\"Mozilla/5.0 (Macintosh; Intel Mac OS X 10_9_4...</td>\n      <td>73</td>\n    </tr>\n    <tr>\n      <th>...</th>\n      <td>...</td>\n      <td>...</td>\n      <td>...</td>\n      <td>...</td>\n      <td>...</td>\n      <td>...</td>\n      <td>...</td>\n      <td>...</td>\n      <td>...</td>\n      <td>...</td>\n      <td>...</td>\n      <td>...</td>\n      <td>...</td>\n      <td>...</td>\n      <td>...</td>\n      <td>...</td>\n      <td>...</td>\n      <td>...</td>\n    </tr>\n    <tr>\n      <th>383</th>\n      <td>Timbiriche</td>\n      <td>Logged In</td>\n      <td>Rylan</td>\n      <td>M</td>\n      <td>58</td>\n      <td>George</td>\n      <td>202.60526</td>\n      <td>paid</td>\n      <td>Birmingham-Hoover, AL</td>\n      <td>PUT</td>\n      <td>NextSong</td>\n      <td>1.541020e+12</td>\n      <td>1076</td>\n      <td>Besos De Ceniza</td>\n      <td>200</td>\n      <td>1543603476796</td>\n      <td>\"Mozilla/5.0 (Macintosh; Intel Mac OS X 10_9_4...</td>\n      <td>16</td>\n    </tr>\n    <tr>\n      <th>384</th>\n      <td>A Perfect Circle</td>\n      <td>Logged In</td>\n      <td>Rylan</td>\n      <td>M</td>\n      <td>59</td>\n      <td>George</td>\n      <td>206.05342</td>\n      <td>paid</td>\n      <td>Birmingham-Hoover, AL</td>\n      <td>PUT</td>\n      <td>NextSong</td>\n      <td>1.541020e+12</td>\n      <td>1076</td>\n      <td>Rose</td>\n      <td>200</td>\n      <td>1543603678796</td>\n      <td>\"Mozilla/5.0 (Macintosh; Intel Mac OS X 10_9_4...</td>\n      <td>16</td>\n    </tr>\n    <tr>\n      <th>385</th>\n      <td>Anberlin</td>\n      <td>Logged In</td>\n      <td>Rylan</td>\n      <td>M</td>\n      <td>60</td>\n      <td>George</td>\n      <td>348.68200</td>\n      <td>paid</td>\n      <td>Birmingham-Hoover, AL</td>\n      <td>PUT</td>\n      <td>NextSong</td>\n      <td>1.541020e+12</td>\n      <td>1076</td>\n      <td>The Haunting</td>\n      <td>200</td>\n      <td>1543603884796</td>\n      <td>\"Mozilla/5.0 (Macintosh; Intel Mac OS X 10_9_4...</td>\n      <td>16</td>\n    </tr>\n    <tr>\n      <th>386</th>\n      <td>None</td>\n      <td>Logged In</td>\n      <td>Rylan</td>\n      <td>M</td>\n      <td>61</td>\n      <td>George</td>\n      <td>NaN</td>\n      <td>paid</td>\n      <td>Birmingham-Hoover, AL</td>\n      <td>GET</td>\n      <td>Downgrade</td>\n      <td>1.541020e+12</td>\n      <td>1076</td>\n      <td>None</td>\n      <td>200</td>\n      <td>1543603993796</td>\n      <td>\"Mozilla/5.0 (Macintosh; Intel Mac OS X 10_9_4...</td>\n      <td>16</td>\n    </tr>\n    <tr>\n      <th>387</th>\n      <td>Deas Vail</td>\n      <td>Logged In</td>\n      <td>Elijah</td>\n      <td>M</td>\n      <td>0</td>\n      <td>Davis</td>\n      <td>237.68771</td>\n      <td>free</td>\n      <td>Detroit-Warren-Dearborn, MI</td>\n      <td>PUT</td>\n      <td>NextSong</td>\n      <td>1.540772e+12</td>\n      <td>985</td>\n      <td>Anything You Say (Unreleased Version)</td>\n      <td>200</td>\n      <td>1543607664796</td>\n      <td>\"Mozilla/5.0 (Macintosh; Intel Mac OS X 10_9_4...</td>\n      <td>5</td>\n    </tr>\n  </tbody>\n</table>\n<p>388 rows × 18 columns</p>\n</div>"
     },
     "metadata": {},
     "execution_count": 11
    }
   ],
   "source": [
    "df = pd.read_json(sorted(log_files)[-1], lines=True)\n",
    "df"
   ]
  },
  {
   "cell_type": "markdown",
   "metadata": {
    "editable": true
   },
   "source": [
    "## #3: `time` Table\n",
    "#### Extract Data for Time Table\n",
    "- Filter records by `NextSong` action\n",
    "- Convert the `ts` timestamp column to datetime\n",
    "  - Hint: the current timestamp is in milliseconds\n",
    "- Extract the timestamp, hour, day, week of year, month, year, and weekday from the `ts` column and set `time_data` to a list containing these values in order\n",
    "  - Hint: use pandas' [`dt` attribute](https://pandas.pydata.org/pandas-docs/stable/reference/api/pandas.Series.dt.html) to access easily datetimelike properties.\n",
    "- Specify labels for these columns and set to `column_labels`\n",
    "- Create a dataframe, `time_df,` containing the time data for this file by combining `column_labels` and `time_data` into a dictionary and converting this into a dataframe"
   ]
  },
  {
   "cell_type": "code",
   "execution_count": 12,
   "metadata": {
    "editable": true
   },
   "outputs": [
    {
     "output_type": "execute_result",
     "data": {
      "text/plain": [
       "          artist       auth firstName gender  itemInSession lastName  \\\n",
       "0  Stephen Lynch  Logged In    Jayden      M            0.0     Bell   \n",
       "1        Manowar  Logged In     Jacob      M            0.0    Klein   \n",
       "2      Morcheeba  Logged In     Jacob      M            1.0    Klein   \n",
       "3       Maroon 5  Logged In     Jacob      M            2.0    Klein   \n",
       "4          Train  Logged In     Jacob      M            3.0    Klein   \n",
       "\n",
       "      length level                             location method      page  \\\n",
       "0  182.85669  free      Dallas-Fort Worth-Arlington, TX    PUT  NextSong   \n",
       "1  247.56200  paid  Tampa-St. Petersburg-Clearwater, FL    PUT  NextSong   \n",
       "2  257.41016  paid  Tampa-St. Petersburg-Clearwater, FL    PUT  NextSong   \n",
       "3  231.23546  paid  Tampa-St. Petersburg-Clearwater, FL    PUT  NextSong   \n",
       "4  216.76363  paid  Tampa-St. Petersburg-Clearwater, FL    PUT  NextSong   \n",
       "\n",
       "   registration  sessionId                                  song  status  \\\n",
       "0  1.540992e+12      829.0                     Jim Henson's Dead   200.0   \n",
       "1  1.540558e+12     1049.0                           Shell Shock   200.0   \n",
       "2  1.540558e+12     1049.0  Women Lose Weight (Feat: Slick Rick)   200.0   \n",
       "3  1.540558e+12     1049.0             Won't Go Home Without You   200.0   \n",
       "4  1.540558e+12     1049.0                      Hey_ Soul Sister   200.0   \n",
       "\n",
       "             ts                                          userAgent userId  \n",
       "0  1.543537e+12  Mozilla/5.0 (compatible; MSIE 10.0; Windows NT...     91  \n",
       "1  1.543540e+12  \"Mozilla/5.0 (Macintosh; Intel Mac OS X 10_9_4...     73  \n",
       "2  1.543540e+12  \"Mozilla/5.0 (Macintosh; Intel Mac OS X 10_9_4...     73  \n",
       "3  1.543541e+12  \"Mozilla/5.0 (Macintosh; Intel Mac OS X 10_9_4...     73  \n",
       "4  1.543541e+12  \"Mozilla/5.0 (Macintosh; Intel Mac OS X 10_9_4...     73  "
      ],
      "text/html": "<div>\n<style scoped>\n    .dataframe tbody tr th:only-of-type {\n        vertical-align: middle;\n    }\n\n    .dataframe tbody tr th {\n        vertical-align: top;\n    }\n\n    .dataframe thead th {\n        text-align: right;\n    }\n</style>\n<table border=\"1\" class=\"dataframe\">\n  <thead>\n    <tr style=\"text-align: right;\">\n      <th></th>\n      <th>artist</th>\n      <th>auth</th>\n      <th>firstName</th>\n      <th>gender</th>\n      <th>itemInSession</th>\n      <th>lastName</th>\n      <th>length</th>\n      <th>level</th>\n      <th>location</th>\n      <th>method</th>\n      <th>page</th>\n      <th>registration</th>\n      <th>sessionId</th>\n      <th>song</th>\n      <th>status</th>\n      <th>ts</th>\n      <th>userAgent</th>\n      <th>userId</th>\n    </tr>\n  </thead>\n  <tbody>\n    <tr>\n      <th>0</th>\n      <td>Stephen Lynch</td>\n      <td>Logged In</td>\n      <td>Jayden</td>\n      <td>M</td>\n      <td>0.0</td>\n      <td>Bell</td>\n      <td>182.85669</td>\n      <td>free</td>\n      <td>Dallas-Fort Worth-Arlington, TX</td>\n      <td>PUT</td>\n      <td>NextSong</td>\n      <td>1.540992e+12</td>\n      <td>829.0</td>\n      <td>Jim Henson's Dead</td>\n      <td>200.0</td>\n      <td>1.543537e+12</td>\n      <td>Mozilla/5.0 (compatible; MSIE 10.0; Windows NT...</td>\n      <td>91</td>\n    </tr>\n    <tr>\n      <th>1</th>\n      <td>Manowar</td>\n      <td>Logged In</td>\n      <td>Jacob</td>\n      <td>M</td>\n      <td>0.0</td>\n      <td>Klein</td>\n      <td>247.56200</td>\n      <td>paid</td>\n      <td>Tampa-St. Petersburg-Clearwater, FL</td>\n      <td>PUT</td>\n      <td>NextSong</td>\n      <td>1.540558e+12</td>\n      <td>1049.0</td>\n      <td>Shell Shock</td>\n      <td>200.0</td>\n      <td>1.543540e+12</td>\n      <td>\"Mozilla/5.0 (Macintosh; Intel Mac OS X 10_9_4...</td>\n      <td>73</td>\n    </tr>\n    <tr>\n      <th>2</th>\n      <td>Morcheeba</td>\n      <td>Logged In</td>\n      <td>Jacob</td>\n      <td>M</td>\n      <td>1.0</td>\n      <td>Klein</td>\n      <td>257.41016</td>\n      <td>paid</td>\n      <td>Tampa-St. Petersburg-Clearwater, FL</td>\n      <td>PUT</td>\n      <td>NextSong</td>\n      <td>1.540558e+12</td>\n      <td>1049.0</td>\n      <td>Women Lose Weight (Feat: Slick Rick)</td>\n      <td>200.0</td>\n      <td>1.543540e+12</td>\n      <td>\"Mozilla/5.0 (Macintosh; Intel Mac OS X 10_9_4...</td>\n      <td>73</td>\n    </tr>\n    <tr>\n      <th>3</th>\n      <td>Maroon 5</td>\n      <td>Logged In</td>\n      <td>Jacob</td>\n      <td>M</td>\n      <td>2.0</td>\n      <td>Klein</td>\n      <td>231.23546</td>\n      <td>paid</td>\n      <td>Tampa-St. Petersburg-Clearwater, FL</td>\n      <td>PUT</td>\n      <td>NextSong</td>\n      <td>1.540558e+12</td>\n      <td>1049.0</td>\n      <td>Won't Go Home Without You</td>\n      <td>200.0</td>\n      <td>1.543541e+12</td>\n      <td>\"Mozilla/5.0 (Macintosh; Intel Mac OS X 10_9_4...</td>\n      <td>73</td>\n    </tr>\n    <tr>\n      <th>4</th>\n      <td>Train</td>\n      <td>Logged In</td>\n      <td>Jacob</td>\n      <td>M</td>\n      <td>3.0</td>\n      <td>Klein</td>\n      <td>216.76363</td>\n      <td>paid</td>\n      <td>Tampa-St. Petersburg-Clearwater, FL</td>\n      <td>PUT</td>\n      <td>NextSong</td>\n      <td>1.540558e+12</td>\n      <td>1049.0</td>\n      <td>Hey_ Soul Sister</td>\n      <td>200.0</td>\n      <td>1.543541e+12</td>\n      <td>\"Mozilla/5.0 (Macintosh; Intel Mac OS X 10_9_4...</td>\n      <td>73</td>\n    </tr>\n  </tbody>\n</table>\n</div>"
     },
     "metadata": {},
     "execution_count": 12
    }
   ],
   "source": [
    "df = df.where(df['page'] == 'NextSong')\n",
    "df.head()"
   ]
  },
  {
   "cell_type": "code",
   "execution_count": 13,
   "metadata": {},
   "outputs": [
    {
     "output_type": "execute_result",
     "data": {
      "text/plain": [
       "               artist       auth firstName gender  itemInSession lastName  \\\n",
       "0       Stephen Lynch  Logged In    Jayden      M            0.0     Bell   \n",
       "1             Manowar  Logged In     Jacob      M            0.0    Klein   \n",
       "2           Morcheeba  Logged In     Jacob      M            1.0    Klein   \n",
       "3            Maroon 5  Logged In     Jacob      M            2.0    Klein   \n",
       "4               Train  Logged In     Jacob      M            3.0    Klein   \n",
       "..                ...        ...       ...    ...            ...      ...   \n",
       "382      Foo Fighters  Logged In     Rylan      M           57.0   George   \n",
       "383        Timbiriche  Logged In     Rylan      M           58.0   George   \n",
       "384  A Perfect Circle  Logged In     Rylan      M           59.0   George   \n",
       "385          Anberlin  Logged In     Rylan      M           60.0   George   \n",
       "387         Deas Vail  Logged In    Elijah      M            0.0    Davis   \n",
       "\n",
       "        length level                             location method      page  \\\n",
       "0    182.85669  free      Dallas-Fort Worth-Arlington, TX    PUT  NextSong   \n",
       "1    247.56200  paid  Tampa-St. Petersburg-Clearwater, FL    PUT  NextSong   \n",
       "2    257.41016  paid  Tampa-St. Petersburg-Clearwater, FL    PUT  NextSong   \n",
       "3    231.23546  paid  Tampa-St. Petersburg-Clearwater, FL    PUT  NextSong   \n",
       "4    216.76363  paid  Tampa-St. Petersburg-Clearwater, FL    PUT  NextSong   \n",
       "..         ...   ...                                  ...    ...       ...   \n",
       "382  271.38567  paid                Birmingham-Hoover, AL    PUT  NextSong   \n",
       "383  202.60526  paid                Birmingham-Hoover, AL    PUT  NextSong   \n",
       "384  206.05342  paid                Birmingham-Hoover, AL    PUT  NextSong   \n",
       "385  348.68200  paid                Birmingham-Hoover, AL    PUT  NextSong   \n",
       "387  237.68771  free          Detroit-Warren-Dearborn, MI    PUT  NextSong   \n",
       "\n",
       "     registration  sessionId                                   song  status  \\\n",
       "0    1.540992e+12      829.0                      Jim Henson's Dead   200.0   \n",
       "1    1.540558e+12     1049.0                            Shell Shock   200.0   \n",
       "2    1.540558e+12     1049.0   Women Lose Weight (Feat: Slick Rick)   200.0   \n",
       "3    1.540558e+12     1049.0              Won't Go Home Without You   200.0   \n",
       "4    1.540558e+12     1049.0                       Hey_ Soul Sister   200.0   \n",
       "..            ...        ...                                    ...     ...   \n",
       "382  1.541020e+12     1076.0                          The Pretender   200.0   \n",
       "383  1.541020e+12     1076.0                        Besos De Ceniza   200.0   \n",
       "384  1.541020e+12     1076.0                                   Rose   200.0   \n",
       "385  1.541020e+12     1076.0                           The Haunting   200.0   \n",
       "387  1.540772e+12      985.0  Anything You Say (Unreleased Version)   200.0   \n",
       "\n",
       "               ts                                          userAgent userId  \n",
       "0    1.543537e+12  Mozilla/5.0 (compatible; MSIE 10.0; Windows NT...     91  \n",
       "1    1.543540e+12  \"Mozilla/5.0 (Macintosh; Intel Mac OS X 10_9_4...     73  \n",
       "2    1.543540e+12  \"Mozilla/5.0 (Macintosh; Intel Mac OS X 10_9_4...     73  \n",
       "3    1.543541e+12  \"Mozilla/5.0 (Macintosh; Intel Mac OS X 10_9_4...     73  \n",
       "4    1.543541e+12  \"Mozilla/5.0 (Macintosh; Intel Mac OS X 10_9_4...     73  \n",
       "..            ...                                                ...    ...  \n",
       "382  1.543603e+12  \"Mozilla/5.0 (Macintosh; Intel Mac OS X 10_9_4...     16  \n",
       "383  1.543603e+12  \"Mozilla/5.0 (Macintosh; Intel Mac OS X 10_9_4...     16  \n",
       "384  1.543604e+12  \"Mozilla/5.0 (Macintosh; Intel Mac OS X 10_9_4...     16  \n",
       "385  1.543604e+12  \"Mozilla/5.0 (Macintosh; Intel Mac OS X 10_9_4...     16  \n",
       "387  1.543608e+12  \"Mozilla/5.0 (Macintosh; Intel Mac OS X 10_9_4...      5  \n",
       "\n",
       "[330 rows x 18 columns]"
      ],
      "text/html": "<div>\n<style scoped>\n    .dataframe tbody tr th:only-of-type {\n        vertical-align: middle;\n    }\n\n    .dataframe tbody tr th {\n        vertical-align: top;\n    }\n\n    .dataframe thead th {\n        text-align: right;\n    }\n</style>\n<table border=\"1\" class=\"dataframe\">\n  <thead>\n    <tr style=\"text-align: right;\">\n      <th></th>\n      <th>artist</th>\n      <th>auth</th>\n      <th>firstName</th>\n      <th>gender</th>\n      <th>itemInSession</th>\n      <th>lastName</th>\n      <th>length</th>\n      <th>level</th>\n      <th>location</th>\n      <th>method</th>\n      <th>page</th>\n      <th>registration</th>\n      <th>sessionId</th>\n      <th>song</th>\n      <th>status</th>\n      <th>ts</th>\n      <th>userAgent</th>\n      <th>userId</th>\n    </tr>\n  </thead>\n  <tbody>\n    <tr>\n      <th>0</th>\n      <td>Stephen Lynch</td>\n      <td>Logged In</td>\n      <td>Jayden</td>\n      <td>M</td>\n      <td>0.0</td>\n      <td>Bell</td>\n      <td>182.85669</td>\n      <td>free</td>\n      <td>Dallas-Fort Worth-Arlington, TX</td>\n      <td>PUT</td>\n      <td>NextSong</td>\n      <td>1.540992e+12</td>\n      <td>829.0</td>\n      <td>Jim Henson's Dead</td>\n      <td>200.0</td>\n      <td>1.543537e+12</td>\n      <td>Mozilla/5.0 (compatible; MSIE 10.0; Windows NT...</td>\n      <td>91</td>\n    </tr>\n    <tr>\n      <th>1</th>\n      <td>Manowar</td>\n      <td>Logged In</td>\n      <td>Jacob</td>\n      <td>M</td>\n      <td>0.0</td>\n      <td>Klein</td>\n      <td>247.56200</td>\n      <td>paid</td>\n      <td>Tampa-St. Petersburg-Clearwater, FL</td>\n      <td>PUT</td>\n      <td>NextSong</td>\n      <td>1.540558e+12</td>\n      <td>1049.0</td>\n      <td>Shell Shock</td>\n      <td>200.0</td>\n      <td>1.543540e+12</td>\n      <td>\"Mozilla/5.0 (Macintosh; Intel Mac OS X 10_9_4...</td>\n      <td>73</td>\n    </tr>\n    <tr>\n      <th>2</th>\n      <td>Morcheeba</td>\n      <td>Logged In</td>\n      <td>Jacob</td>\n      <td>M</td>\n      <td>1.0</td>\n      <td>Klein</td>\n      <td>257.41016</td>\n      <td>paid</td>\n      <td>Tampa-St. Petersburg-Clearwater, FL</td>\n      <td>PUT</td>\n      <td>NextSong</td>\n      <td>1.540558e+12</td>\n      <td>1049.0</td>\n      <td>Women Lose Weight (Feat: Slick Rick)</td>\n      <td>200.0</td>\n      <td>1.543540e+12</td>\n      <td>\"Mozilla/5.0 (Macintosh; Intel Mac OS X 10_9_4...</td>\n      <td>73</td>\n    </tr>\n    <tr>\n      <th>3</th>\n      <td>Maroon 5</td>\n      <td>Logged In</td>\n      <td>Jacob</td>\n      <td>M</td>\n      <td>2.0</td>\n      <td>Klein</td>\n      <td>231.23546</td>\n      <td>paid</td>\n      <td>Tampa-St. Petersburg-Clearwater, FL</td>\n      <td>PUT</td>\n      <td>NextSong</td>\n      <td>1.540558e+12</td>\n      <td>1049.0</td>\n      <td>Won't Go Home Without You</td>\n      <td>200.0</td>\n      <td>1.543541e+12</td>\n      <td>\"Mozilla/5.0 (Macintosh; Intel Mac OS X 10_9_4...</td>\n      <td>73</td>\n    </tr>\n    <tr>\n      <th>4</th>\n      <td>Train</td>\n      <td>Logged In</td>\n      <td>Jacob</td>\n      <td>M</td>\n      <td>3.0</td>\n      <td>Klein</td>\n      <td>216.76363</td>\n      <td>paid</td>\n      <td>Tampa-St. Petersburg-Clearwater, FL</td>\n      <td>PUT</td>\n      <td>NextSong</td>\n      <td>1.540558e+12</td>\n      <td>1049.0</td>\n      <td>Hey_ Soul Sister</td>\n      <td>200.0</td>\n      <td>1.543541e+12</td>\n      <td>\"Mozilla/5.0 (Macintosh; Intel Mac OS X 10_9_4...</td>\n      <td>73</td>\n    </tr>\n    <tr>\n      <th>...</th>\n      <td>...</td>\n      <td>...</td>\n      <td>...</td>\n      <td>...</td>\n      <td>...</td>\n      <td>...</td>\n      <td>...</td>\n      <td>...</td>\n      <td>...</td>\n      <td>...</td>\n      <td>...</td>\n      <td>...</td>\n      <td>...</td>\n      <td>...</td>\n      <td>...</td>\n      <td>...</td>\n      <td>...</td>\n      <td>...</td>\n    </tr>\n    <tr>\n      <th>382</th>\n      <td>Foo Fighters</td>\n      <td>Logged In</td>\n      <td>Rylan</td>\n      <td>M</td>\n      <td>57.0</td>\n      <td>George</td>\n      <td>271.38567</td>\n      <td>paid</td>\n      <td>Birmingham-Hoover, AL</td>\n      <td>PUT</td>\n      <td>NextSong</td>\n      <td>1.541020e+12</td>\n      <td>1076.0</td>\n      <td>The Pretender</td>\n      <td>200.0</td>\n      <td>1.543603e+12</td>\n      <td>\"Mozilla/5.0 (Macintosh; Intel Mac OS X 10_9_4...</td>\n      <td>16</td>\n    </tr>\n    <tr>\n      <th>383</th>\n      <td>Timbiriche</td>\n      <td>Logged In</td>\n      <td>Rylan</td>\n      <td>M</td>\n      <td>58.0</td>\n      <td>George</td>\n      <td>202.60526</td>\n      <td>paid</td>\n      <td>Birmingham-Hoover, AL</td>\n      <td>PUT</td>\n      <td>NextSong</td>\n      <td>1.541020e+12</td>\n      <td>1076.0</td>\n      <td>Besos De Ceniza</td>\n      <td>200.0</td>\n      <td>1.543603e+12</td>\n      <td>\"Mozilla/5.0 (Macintosh; Intel Mac OS X 10_9_4...</td>\n      <td>16</td>\n    </tr>\n    <tr>\n      <th>384</th>\n      <td>A Perfect Circle</td>\n      <td>Logged In</td>\n      <td>Rylan</td>\n      <td>M</td>\n      <td>59.0</td>\n      <td>George</td>\n      <td>206.05342</td>\n      <td>paid</td>\n      <td>Birmingham-Hoover, AL</td>\n      <td>PUT</td>\n      <td>NextSong</td>\n      <td>1.541020e+12</td>\n      <td>1076.0</td>\n      <td>Rose</td>\n      <td>200.0</td>\n      <td>1.543604e+12</td>\n      <td>\"Mozilla/5.0 (Macintosh; Intel Mac OS X 10_9_4...</td>\n      <td>16</td>\n    </tr>\n    <tr>\n      <th>385</th>\n      <td>Anberlin</td>\n      <td>Logged In</td>\n      <td>Rylan</td>\n      <td>M</td>\n      <td>60.0</td>\n      <td>George</td>\n      <td>348.68200</td>\n      <td>paid</td>\n      <td>Birmingham-Hoover, AL</td>\n      <td>PUT</td>\n      <td>NextSong</td>\n      <td>1.541020e+12</td>\n      <td>1076.0</td>\n      <td>The Haunting</td>\n      <td>200.0</td>\n      <td>1.543604e+12</td>\n      <td>\"Mozilla/5.0 (Macintosh; Intel Mac OS X 10_9_4...</td>\n      <td>16</td>\n    </tr>\n    <tr>\n      <th>387</th>\n      <td>Deas Vail</td>\n      <td>Logged In</td>\n      <td>Elijah</td>\n      <td>M</td>\n      <td>0.0</td>\n      <td>Davis</td>\n      <td>237.68771</td>\n      <td>free</td>\n      <td>Detroit-Warren-Dearborn, MI</td>\n      <td>PUT</td>\n      <td>NextSong</td>\n      <td>1.540772e+12</td>\n      <td>985.0</td>\n      <td>Anything You Say (Unreleased Version)</td>\n      <td>200.0</td>\n      <td>1.543608e+12</td>\n      <td>\"Mozilla/5.0 (Macintosh; Intel Mac OS X 10_9_4...</td>\n      <td>5</td>\n    </tr>\n  </tbody>\n</table>\n<p>330 rows × 18 columns</p>\n</div>"
     },
     "metadata": {},
     "execution_count": 13
    }
   ],
   "source": [
    "df = df.dropna()\n",
    "df"
   ]
  },
  {
   "cell_type": "code",
   "execution_count": 14,
   "metadata": {
    "editable": true
   },
   "outputs": [],
   "source": [
    "t = pd.to_datetime(df['ts'], unit='ms')"
   ]
  },
  {
   "cell_type": "code",
   "execution_count": 15,
   "metadata": {
    "editable": true
   },
   "outputs": [
    {
     "output_type": "stream",
     "name": "stderr",
     "text": [
      "<ipython-input-15-db82dd6cb699>:2: FutureWarning: Series.dt.weekofyear and Series.dt.week have been deprecated.  Please use Series.dt.isocalendar().week instead.\n  time_data = [t, t.dt.hour, t.dt.day, t.dt.weekofyear, t.dt.month, t.dt.year, t.dt.weekday]\n"
     ]
    }
   ],
   "source": [
    "#timestamp, hour, day, week of year, month, year, and weekday\n",
    "time_data = [t, t.dt.hour, t.dt.day, t.dt.weekofyear, t.dt.month, t.dt.year, t.dt.weekday]\n",
    "column_labels = ['timestamp', 'hour', 'day', 'weekofyear', 'month', 'year', 'weekday']"
   ]
  },
  {
   "cell_type": "code",
   "execution_count": 16,
   "metadata": {
    "editable": true
   },
   "outputs": [
    {
     "output_type": "execute_result",
     "data": {
      "text/plain": [
       "                timestamp  hour  day  weekofyear  month  year  weekday\n",
       "0 2018-11-30 00:22:07.796     0   30          48     11  2018        4\n",
       "1 2018-11-30 01:08:41.796     1   30          48     11  2018        4\n",
       "2 2018-11-30 01:12:48.796     1   30          48     11  2018        4\n",
       "3 2018-11-30 01:17:05.796     1   30          48     11  2018        4\n",
       "4 2018-11-30 01:20:56.796     1   30          48     11  2018        4"
      ],
      "text/html": "<div>\n<style scoped>\n    .dataframe tbody tr th:only-of-type {\n        vertical-align: middle;\n    }\n\n    .dataframe tbody tr th {\n        vertical-align: top;\n    }\n\n    .dataframe thead th {\n        text-align: right;\n    }\n</style>\n<table border=\"1\" class=\"dataframe\">\n  <thead>\n    <tr style=\"text-align: right;\">\n      <th></th>\n      <th>timestamp</th>\n      <th>hour</th>\n      <th>day</th>\n      <th>weekofyear</th>\n      <th>month</th>\n      <th>year</th>\n      <th>weekday</th>\n    </tr>\n  </thead>\n  <tbody>\n    <tr>\n      <th>0</th>\n      <td>2018-11-30 00:22:07.796</td>\n      <td>0</td>\n      <td>30</td>\n      <td>48</td>\n      <td>11</td>\n      <td>2018</td>\n      <td>4</td>\n    </tr>\n    <tr>\n      <th>1</th>\n      <td>2018-11-30 01:08:41.796</td>\n      <td>1</td>\n      <td>30</td>\n      <td>48</td>\n      <td>11</td>\n      <td>2018</td>\n      <td>4</td>\n    </tr>\n    <tr>\n      <th>2</th>\n      <td>2018-11-30 01:12:48.796</td>\n      <td>1</td>\n      <td>30</td>\n      <td>48</td>\n      <td>11</td>\n      <td>2018</td>\n      <td>4</td>\n    </tr>\n    <tr>\n      <th>3</th>\n      <td>2018-11-30 01:17:05.796</td>\n      <td>1</td>\n      <td>30</td>\n      <td>48</td>\n      <td>11</td>\n      <td>2018</td>\n      <td>4</td>\n    </tr>\n    <tr>\n      <th>4</th>\n      <td>2018-11-30 01:20:56.796</td>\n      <td>1</td>\n      <td>30</td>\n      <td>48</td>\n      <td>11</td>\n      <td>2018</td>\n      <td>4</td>\n    </tr>\n  </tbody>\n</table>\n</div>"
     },
     "metadata": {},
     "execution_count": 16
    }
   ],
   "source": [
    "time_df = pd.DataFrame(data=dict(zip(column_labels, time_data)))\n",
    "time_df.head()"
   ]
  },
  {
   "cell_type": "markdown",
   "metadata": {
    "editable": true
   },
   "source": [
    "#### Insert Records into Time Table\n",
    "Implement the `time_table_insert` query in `sql_queries.py` and run the cell below to insert records for the timestamps in this log file into the `time` table. Remember to run `create_tables.py` before running the cell below to ensure you've created/resetted the `time` table in the sparkify database."
   ]
  },
  {
   "cell_type": "code",
   "execution_count": 17,
   "metadata": {
    "editable": true
   },
   "outputs": [],
   "source": [
    "for i, row in time_df.iterrows():\n",
    "    cur.execute(time_table_insert, list(row))\n",
    "    conn.commit()"
   ]
  },
  {
   "cell_type": "markdown",
   "metadata": {
    "editable": true
   },
   "source": [
    "Run `test.ipynb` to see if you've successfully added records to this table."
   ]
  },
  {
   "cell_type": "markdown",
   "metadata": {
    "editable": true
   },
   "source": [
    "## #4: `users` Table\n",
    "#### Extract Data for Users Table\n",
    "- Select columns for user ID, first name, last name, gender and level and set to `user_df`"
   ]
  },
  {
   "cell_type": "code",
   "execution_count": 18,
   "metadata": {
    "editable": true
   },
   "outputs": [
    {
     "output_type": "execute_result",
     "data": {
      "text/plain": [
       "    userId  firstName   lastName gender level\n",
       "0       91     Jayden       Bell      M  free\n",
       "1       73      Jacob      Klein      M  paid\n",
       "23      86      Aiden       Hess      M  free\n",
       "30      24      Layla    Griffin      F  paid\n",
       "40      26       Ryan      Smith      M  free\n",
       "59      49      Chloe     Cuevas      F  paid\n",
       "62      57  Katherine        Gay      F  free\n",
       "69      30      Avery    Watkins      F  paid\n",
       "79      92      Ryann      Smith      F  free\n",
       "125     74     Braden     Parker      M  free\n",
       "135     88   Mohammad  Rodriguez      M  paid\n",
       "146     36    Matthew      Jones      M  paid\n",
       "177     12     Austin    Rosales      M  free\n",
       "186     61     Samuel   Gonzalez      M  free\n",
       "194     43     Jahiem      Miles      M  free\n",
       "205     85    Kinsley      Young      F  paid\n",
       "213     50        Ava   Robinson      F  free\n",
       "239    101     Jayden        Fox      M  free\n",
       "243     16      Rylan     George      M  paid\n",
       "306     78      Chloe       Roth      F  free\n",
       "317     33    Bronson     Harris      M  free\n",
       "387      5     Elijah      Davis      M  free"
      ],
      "text/html": "<div>\n<style scoped>\n    .dataframe tbody tr th:only-of-type {\n        vertical-align: middle;\n    }\n\n    .dataframe tbody tr th {\n        vertical-align: top;\n    }\n\n    .dataframe thead th {\n        text-align: right;\n    }\n</style>\n<table border=\"1\" class=\"dataframe\">\n  <thead>\n    <tr style=\"text-align: right;\">\n      <th></th>\n      <th>userId</th>\n      <th>firstName</th>\n      <th>lastName</th>\n      <th>gender</th>\n      <th>level</th>\n    </tr>\n  </thead>\n  <tbody>\n    <tr>\n      <th>0</th>\n      <td>91</td>\n      <td>Jayden</td>\n      <td>Bell</td>\n      <td>M</td>\n      <td>free</td>\n    </tr>\n    <tr>\n      <th>1</th>\n      <td>73</td>\n      <td>Jacob</td>\n      <td>Klein</td>\n      <td>M</td>\n      <td>paid</td>\n    </tr>\n    <tr>\n      <th>23</th>\n      <td>86</td>\n      <td>Aiden</td>\n      <td>Hess</td>\n      <td>M</td>\n      <td>free</td>\n    </tr>\n    <tr>\n      <th>30</th>\n      <td>24</td>\n      <td>Layla</td>\n      <td>Griffin</td>\n      <td>F</td>\n      <td>paid</td>\n    </tr>\n    <tr>\n      <th>40</th>\n      <td>26</td>\n      <td>Ryan</td>\n      <td>Smith</td>\n      <td>M</td>\n      <td>free</td>\n    </tr>\n    <tr>\n      <th>59</th>\n      <td>49</td>\n      <td>Chloe</td>\n      <td>Cuevas</td>\n      <td>F</td>\n      <td>paid</td>\n    </tr>\n    <tr>\n      <th>62</th>\n      <td>57</td>\n      <td>Katherine</td>\n      <td>Gay</td>\n      <td>F</td>\n      <td>free</td>\n    </tr>\n    <tr>\n      <th>69</th>\n      <td>30</td>\n      <td>Avery</td>\n      <td>Watkins</td>\n      <td>F</td>\n      <td>paid</td>\n    </tr>\n    <tr>\n      <th>79</th>\n      <td>92</td>\n      <td>Ryann</td>\n      <td>Smith</td>\n      <td>F</td>\n      <td>free</td>\n    </tr>\n    <tr>\n      <th>125</th>\n      <td>74</td>\n      <td>Braden</td>\n      <td>Parker</td>\n      <td>M</td>\n      <td>free</td>\n    </tr>\n    <tr>\n      <th>135</th>\n      <td>88</td>\n      <td>Mohammad</td>\n      <td>Rodriguez</td>\n      <td>M</td>\n      <td>paid</td>\n    </tr>\n    <tr>\n      <th>146</th>\n      <td>36</td>\n      <td>Matthew</td>\n      <td>Jones</td>\n      <td>M</td>\n      <td>paid</td>\n    </tr>\n    <tr>\n      <th>177</th>\n      <td>12</td>\n      <td>Austin</td>\n      <td>Rosales</td>\n      <td>M</td>\n      <td>free</td>\n    </tr>\n    <tr>\n      <th>186</th>\n      <td>61</td>\n      <td>Samuel</td>\n      <td>Gonzalez</td>\n      <td>M</td>\n      <td>free</td>\n    </tr>\n    <tr>\n      <th>194</th>\n      <td>43</td>\n      <td>Jahiem</td>\n      <td>Miles</td>\n      <td>M</td>\n      <td>free</td>\n    </tr>\n    <tr>\n      <th>205</th>\n      <td>85</td>\n      <td>Kinsley</td>\n      <td>Young</td>\n      <td>F</td>\n      <td>paid</td>\n    </tr>\n    <tr>\n      <th>213</th>\n      <td>50</td>\n      <td>Ava</td>\n      <td>Robinson</td>\n      <td>F</td>\n      <td>free</td>\n    </tr>\n    <tr>\n      <th>239</th>\n      <td>101</td>\n      <td>Jayden</td>\n      <td>Fox</td>\n      <td>M</td>\n      <td>free</td>\n    </tr>\n    <tr>\n      <th>243</th>\n      <td>16</td>\n      <td>Rylan</td>\n      <td>George</td>\n      <td>M</td>\n      <td>paid</td>\n    </tr>\n    <tr>\n      <th>306</th>\n      <td>78</td>\n      <td>Chloe</td>\n      <td>Roth</td>\n      <td>F</td>\n      <td>free</td>\n    </tr>\n    <tr>\n      <th>317</th>\n      <td>33</td>\n      <td>Bronson</td>\n      <td>Harris</td>\n      <td>M</td>\n      <td>free</td>\n    </tr>\n    <tr>\n      <th>387</th>\n      <td>5</td>\n      <td>Elijah</td>\n      <td>Davis</td>\n      <td>M</td>\n      <td>free</td>\n    </tr>\n  </tbody>\n</table>\n</div>"
     },
     "metadata": {},
     "execution_count": 18
    }
   ],
   "source": [
    "user_df = df[['userId', 'firstName', 'lastName', 'gender', 'level']].drop_duplicates()\n",
    "user_df"
   ]
  },
  {
   "cell_type": "markdown",
   "metadata": {
    "editable": true
   },
   "source": [
    "#### Insert Records into Users Table\n",
    "Implement the `user_table_insert` query in `sql_queries.py` and run the cell below to insert records for the users in this log file into the `users` table. Remember to run `create_tables.py` before running the cell below to ensure you've created/resetted the `users` table in the sparkify database."
   ]
  },
  {
   "cell_type": "code",
   "execution_count": 19,
   "metadata": {
    "editable": true
   },
   "outputs": [],
   "source": [
    "for i, row in user_df.iterrows():\n",
    "    cur.execute(user_table_insert, row)\n",
    "    conn.commit() "
   ]
  },
  {
   "cell_type": "markdown",
   "metadata": {
    "editable": true
   },
   "source": [
    "Run `test.ipynb` to see if you've successfully added records to this table."
   ]
  },
  {
   "cell_type": "markdown",
   "metadata": {
    "editable": true
   },
   "source": [
    "## #5: `songplays` Table\n",
    "#### Extract Data and Songplays Table\n",
    "This one is a little more complicated since information from the songs table, artists table, and original log file are all needed for the `songplays` table. Since the log file does not specify an ID for either the song or the artist, you'll need to get the song ID and artist ID by querying the songs and artists tables to find matches based on song title, artist name, and song duration time.\n",
    "- Implement the `song_select` query in `sql_queries.py` to find the song ID and artist ID based on the title, artist name, and duration of a song.\n",
    "- Select the timestamp, user ID, level, song ID, artist ID, session ID, location, and user agent and set to `songplay_data`\n",
    "\n",
    "#### Insert Records into Songplays Table\n",
    "- Implement the `songplay_table_insert` query and run the cell below to insert records for the songplay actions in this log file into the `songplays` table. Remember to run `create_tables.py` before running the cell below to ensure you've created/resetted the `songplays` table in the sparkify database."
   ]
  },
  {
   "cell_type": "code",
   "execution_count": 20,
   "metadata": {},
   "outputs": [
    {
     "output_type": "execute_result",
     "data": {
      "text/plain": [
       "Index(['artist', 'auth', 'firstName', 'gender', 'itemInSession', 'lastName',\n",
       "       'length', 'level', 'location', 'method', 'page', 'registration',\n",
       "       'sessionId', 'song', 'status', 'ts', 'userAgent', 'userId'],\n",
       "      dtype='object')"
      ]
     },
     "metadata": {},
     "execution_count": 20
    }
   ],
   "source": [
    "#timestamp, user ID, level, song ID, artist ID, session ID, location, and user agent\n",
    "df.columns"
   ]
  },
  {
   "cell_type": "code",
   "execution_count": 21,
   "metadata": {},
   "outputs": [
    {
     "output_type": "execute_result",
     "data": {
      "text/plain": [
       "array([\"Jim Henson's Dead\", 'Shell Shock',\n",
       "       'Women Lose Weight (Feat: Slick Rick)',\n",
       "       \"Won't Go Home Without You\", 'Hey_ Soul Sister',\n",
       "       \"I'm In Miami Bitch\", 'Sexy Bitch',\n",
       "       'The Cure & The Cause (Dennis Ferrer Remix)', 'Staring At Me',\n",
       "       'The Second You Sleep', 'Wide Eyes',\n",
       "       'La Resistance (Medley) (LP Version)', 'Restless', 'Noc...',\n",
       "       'Like You', 'God Put A Smile Upon Your Face', 'Playboy',\n",
       "       'Every Time You Go', 'Natural Anthem (Album)', 'Taylor',\n",
       "       'Naked As We Can', 'Fantasy', 'Epilogue', \"Groovin'\",\n",
       "       \"Ain't No Way (You Won't Love Me)\", 'Rome',\n",
       "       'Highway Through My Home', '143', 'Dreams-Come-True-Girl',\n",
       "       \"I Don't Feel Like Dancin'\", 'Right On Time (Album Version)',\n",
       "       'Black Lines', 'Uprising', 'Man Makes The Zoo', 'Blacks/Radio',\n",
       "       'Love Dealer (Featuring Justin Timberlake)', 'ReprÃ\\x83Â©sente',\n",
       "       'Up And Gone', 'Te Conoci', 'Bottle Pop',\n",
       "       'My Love Will Follow You', 'Found Home', 'My December',\n",
       "       'The Perfect Kiss', \"You're Gonna Make Me Lonesome When You Go\",\n",
       "       'Shortie Like Mine', 'Domination',\n",
       "       'Inside My Love (Digitally Remastered 93)', 'Structure',\n",
       "       'Killing In The Name', \"Girl You Know It's True\",\n",
       "       'Waterfall (Spirit Of The Rainforest Album Version)',\n",
       "       'Robot Soul (Radio Edit)', 'Blindfold',\n",
       "       \"I'm Yours (Album Version)\", 'Say Hello',\n",
       "       '(I Just) Died In Your Arms', 'Sweet Jane', 'Gears',\n",
       "       'Seven Nation Army (Album Version)', 'Fix You',\n",
       "       'It Could Be Sweet', 'If This Was The Last Song', 'Poppiholla',\n",
       "       'The Unforgiven III', 'Apresurate', 'There Is',\n",
       "       'Would That Make U Love Me', 'Screaming Infidelities', 'Big Idea',\n",
       "       'Bulletproof', 'The Tune', 'Trani', 'Girl Money',\n",
       "       'Chloe Dancer/Crown Of Thorns', 'The Bachelor and the Bride', 'M',\n",
       "       \"Nothin' On You [feat. Bruno Mars] (Album Version)\",\n",
       "       'You Sent Me Flying / Cherry', 'Faithless', 'You Only Live Once',\n",
       "       'Tempting Time', 'Flowers In December', 'Take It Back',\n",
       "       'Behind Two Hills&A Swimming Pool',\n",
       "       'My First Kiss (Feat. Ke$ha) [Album Version]',\n",
       "       'Straight Outta Compton (Extended Mix) (Edit) (Explicit)',\n",
       "       \"Goin' Home\", 'Sick', 'Half Of My Heart', 'Revelry',\n",
       "       'World Coming Down', 'Fire', 'Shoot Me Down',\n",
       "       'Juice (Know The Ledge)', \"Hymne A L'Amour (Album Version)\",\n",
       "       \"We're Only Gonna Die (Album Version)\", 'Next Hype', 'Fireflies',\n",
       "       'Hotel California', 'Little Wing', 'Smothered (Album Version)',\n",
       "       'Try Your Best', 'Le Courage Des Oiseaux',\n",
       "       'Lips Like Morphine (Album Version)', 'Kiedys zrozumiesz',\n",
       "       \"Fallin' Apart\", \"Don't Cry (Original)\", 'Transparency',\n",
       "       'La Suerte De Mi Vida', 'Redwing',\n",
       "       'Starfish-On-The-Toast (2008 Digital Remaster)', 'Illusions',\n",
       "       'Bright Lights (Remastered Version)', 'Field Goal', 'Nah!',\n",
       "       'By The Way', 'Keep On Running', 'I Dont Wanna Wait', 'Echonomix',\n",
       "       'One By One', 'Sin Miedo a Nada (con Amaia Montero)',\n",
       "       'Bonnie Brae', 'War', 'Sad Lisa',\n",
       "       'The House That Nat Built (Album Version)',\n",
       "       'Jealous Minds Think Alike', \"My Mother's Eyes\", 'Make Her Say',\n",
       "       'Viaje Sin Rumbo (2004 Digital Remaster)', 'Dreamdancer',\n",
       "       'The Queen of Nothing', 'Riot In Cell Block Number Nine',\n",
       "       'Sehr kosmisch', 'Everything You Love (Album Version)',\n",
       "       \"Someone Else's Life\", 'Godine prolaze',\n",
       "       'Private Affair (Amended Album Version)', 'Ginko Biloba',\n",
       "       'Three Day Weekend', 'Meen Dah Elly Nseik', 'Boot On The Seat',\n",
       "       'FaFaFa (Radio Edit)', 'Human After All', 'Somebody To Love',\n",
       "       'Real Love', 'Subterranean Homesick Blues (Album Version)',\n",
       "       \"Can't Break Thru\", 'Get Me Bodied', 'Maybe', 'Walk To The Water',\n",
       "       \"I CAN'T GET STARTED\", 'Breath After Breath', 'Head Over Heels',\n",
       "       'Lonely As You', 'One Year_ Six Months', 'Against The Wall',\n",
       "       'Knocking On Forbidden Doors', 'Hey Hey', 'Genom tunna tyger',\n",
       "       'The Little Things Give You Away [Live At Milton Keynes]',\n",
       "       'Devil May Care', \"Tell Me I'm A Wreck\", 'Constellations',\n",
       "       'Vuelve', 'Give Me Anything', 'Worm Infested',\n",
       "       'Headlights Look Like Diamonds', 'Hands Up', 'Sweet And Wild',\n",
       "       'Satellite Mind', \"You're The One\",\n",
       "       'Did You Get My Message? (Live From Montalvo)',\n",
       "       'N A Whitemanzeyez', 'Karma Police', 'Puto', 'Killing Lies',\n",
       "       'Hallelujah', \"Ghosts 'n' Stuff (Original Instrumental Mix)\",\n",
       "       \"You're The Voice\", 'Inside Of You',\n",
       "       'Clean Up Woman (Single/LP Version)', 'Tranen Gelachen',\n",
       "       'The Small Print',\n",
       "       'A QuÃ\\x83Â© Niegas El Delirio (MalagueÃ\\x83Â±a) (Live)',\n",
       "       \"It's My Life (Radio Edit)\", 'Sit Down. Stand Up', 'Purple Weed',\n",
       "       \"Someone Else's Arms\", \"The Future Ain't What It Used To Be\",\n",
       "       'A-Punk (Album)', 'Time To Pretend', 'Luna y Sol', 'Touch My Horn',\n",
       "       'Eternity', 'Dyed in the Wool (Album Version)',\n",
       "       'Wretchrospective (feat. Vis)', 'Simple',\n",
       "       'Riecht wie Teen Spirit (Smells Like Teen Spirit)', 'Adrenalin',\n",
       "       'Bread & Water', 'VooDoo',\n",
       "       'Horn Concerto No. 4 in E flat K495: II. Romance (Andante cantabile)',\n",
       "       \"Frankie's Office\", 'Summer Breeze', 'Love Shack', 'Alexandra',\n",
       "       'Canada', 'Anthem For The Underdog',\n",
       "       'Get Ready To Bounce Recall 08', 'The Good Fight', 'Low Land Moan',\n",
       "       'In', 'Sway', 'I Miss You Now', 'Masculine Eclipse',\n",
       "       'As If Set Afire', 'Underwater World', 'Our Last Time',\n",
       "       'T.N.T. For The Brain (112 Bpm) (Radio Edit)',\n",
       "       'Tattered Banners And Bloody Flags',\n",
       "       'The Great Escape (Album Version) (Explicit)',\n",
       "       'Lacreme napulitane', 'Autobiography', 'The Ecstasy Of Gold',\n",
       "       'Kryptonite', 'No Fool (For Love)', 'Pray', 'Bubble Toes', 'Lotus',\n",
       "       'You Belong With Me', 'Candy Rain', 'Firestarter', 'Addicted',\n",
       "       'The Evil That Men Do (1998 Digital Remaster)', 'All Around Me',\n",
       "       'Everyday', 'Feel It', 'Overload', 'Hold You', 'The Way She Moves',\n",
       "       'I Want Your Love', 'Corrido de Boxeo', 'When I Grow Up', 'Yellow',\n",
       "       'She Likes (Bittersweet Love)', 'Believe That',\n",
       "       'Through The Fire And Flames (Album Version)',\n",
       "       'Lucky (Album Version)', 'Is She Weird', 'Without Me',\n",
       "       'Cry No More', 'Le Million', 'Only Superstition', 'Bedroom Suite',\n",
       "       'A New Arrangement', 'The Only Exception (Album Version)',\n",
       "       'Sinisten tÃ\\x83Â¤htien alla', 'Knee 2',\n",
       "       'SinceritÃ\\x83Â© Et Jalousie', 'Her Voice Is Beyond Her Years',\n",
       "       'If You Leave Me Now', 'Diamond Dave', '1999',\n",
       "       'King Of Pain (Live/Unplugged Version)',\n",
       "       'Rebirthing (Album Version)', 'Beauty and the Beast',\n",
       "       'Dressed For Friend Requests (Album Version)', \"Tuesday's Child\",\n",
       "       'All The Right Moves', 'Wicked', 'My Distressor 40Khz ReRub Mix',\n",
       "       'Six Days At The Bottom Of The Ocean', 'Little Bird',\n",
       "       'The Horizon Has Been Defeated', 'Everything In Its Right Place',\n",
       "       'Heretics', 'Sabbra Cadabra',\n",
       "       'Catch You Baby (Steve Pitron & Max Sanna Radio Edit)',\n",
       "       'Shattered', 'As The Rhyme Goes On', 'Settle For A Slowdown',\n",
       "       'Daniel Cowman', 'Make You Sin', 'Roc U', 'Sayonara-Nostalgia',\n",
       "       'In The Hands Of The Gods (Featuring Biz Markie)',\n",
       "       \"Don't Forget To Breathe\", \"Now You're Gone\", 'Undo', 'G4L',\n",
       "       'Hello', 'Tamale', 'Another Place', 'Straight To Hell',\n",
       "       'Cry Me A River', 'Un Camino Hasta Vos',\n",
       "       'Sura (2008 Digital Remaster)', 'Pursuit Of Happiness (nightmare)',\n",
       "       'Forever', 'Homesick [Acoustic]',\n",
       "       'Dead And Gone [feat. Justin Timberlake] (Explicit Album Version)',\n",
       "       \"It'll Be a Long Time (Album Version)\",\n",
       "       'Esta Es Para Hacerte FÃ\\x83Â©liz', 'Spin Spin Sugar',\n",
       "       'This War Is Ours (The Guillotine II)', 'La Vida Es Un Ratico',\n",
       "       'Never Mind', 'Possession', \"Don't Start Me Talkin'\",\n",
       "       'Back To Life (However Do You Want Me) (2003 Digital Remaster) (Feat. Caron Wheeler)',\n",
       "       'Dog Days Are Over (Radio Edit)', 'Heresy  (LP Version)', 'Remedy',\n",
       "       'Frozen Angel', 'The Pretender', 'Besos De Ceniza', 'Rose',\n",
       "       'The Haunting', 'Anything You Say (Unreleased Version)'],\n",
       "      dtype=object)"
      ]
     },
     "metadata": {},
     "execution_count": 21
    }
   ],
   "source": [
    "df['song'].unique()"
   ]
  },
  {
   "cell_type": "code",
   "execution_count": 22,
   "metadata": {
    "editable": true,
    "tags": [
     "outputPrepend"
    ]
   },
   "outputs": [
    {
     "output_type": "stream",
     "name": "stdout",
     "text": [
      "f The Gods (Featuring Biz Markie) Morcheeba 101.95546\n",
      "(Timestamp('2018-11-30 17:44:00.796000'), '49', 'paid', None, None, 1114.0, 'San Francisco-Oakland-Hayward, CA', 'Mozilla/5.0 (Windows NT 5.1; rv:31.0) Gecko/20100101 Firefox/31.0')\n",
      "\n",
      "        SELECT songs.song_id,\n",
      "               artists.artist_id\n",
      "        FROM  songs\n",
      "          INNER JOIN artists\n",
      "            ON songs.artist_id = artists.artist_id\n",
      "        WHERE songs.title = %s\n",
      "              AND\n",
      "              artists.name = %s\n",
      "              AND\n",
      "              songs.duration = %s\n",
      " Don't Forget To Breathe Bitter:Sweet 194.16771\n",
      "Don't Forget To Breathe Bitter:Sweet 194.16771\n",
      "(Timestamp('2018-11-30 17:45:41.796000'), '49', 'paid', None, None, 1114.0, 'San Francisco-Oakland-Hayward, CA', 'Mozilla/5.0 (Windows NT 5.1; rv:31.0) Gecko/20100101 Firefox/31.0')\n",
      "\n",
      "        SELECT songs.song_id,\n",
      "               artists.artist_id\n",
      "        FROM  songs\n",
      "          INNER JOIN artists\n",
      "            ON songs.artist_id = artists.artist_id\n",
      "        WHERE songs.title = %s\n",
      "              AND\n",
      "              artists.name = %s\n",
      "              AND\n",
      "              songs.duration = %s\n",
      " Now You're Gone Basshunter Feat. DJ Mental Theo\u0019s Bazzheadz 152.65914\n",
      "Now You're Gone Basshunter Feat. DJ Mental Theo\u0019s Bazzheadz 152.65914\n",
      "(Timestamp('2018-11-30 17:47:13.796000'), '16', 'paid', None, None, 1076.0, 'Birmingham-Hoover, AL', '\"Mozilla/5.0 (Macintosh; Intel Mac OS X 10_9_4) AppleWebKit/537.77.4 (KHTML, like Gecko) Version/7.0.5 Safari/537.77.4\"')\n",
      "\n",
      "        SELECT songs.song_id,\n",
      "               artists.artist_id\n",
      "        FROM  songs\n",
      "          INNER JOIN artists\n",
      "            ON songs.artist_id = artists.artist_id\n",
      "        WHERE songs.title = %s\n",
      "              AND\n",
      "              artists.name = %s\n",
      "              AND\n",
      "              songs.duration = %s\n",
      " Undo BjÃÂ¶rk 348.57751\n",
      "Undo BjÃÂ¶rk 348.57751\n",
      "(Timestamp('2018-11-30 17:48:55.796000'), '49', 'paid', None, None, 1114.0, 'San Francisco-Oakland-Hayward, CA', 'Mozilla/5.0 (Windows NT 5.1; rv:31.0) Gecko/20100101 Firefox/31.0')\n",
      "\n",
      "        SELECT songs.song_id,\n",
      "               artists.artist_id\n",
      "        FROM  songs\n",
      "          INNER JOIN artists\n",
      "            ON songs.artist_id = artists.artist_id\n",
      "        WHERE songs.title = %s\n",
      "              AND\n",
      "              artists.name = %s\n",
      "              AND\n",
      "              songs.duration = %s\n",
      " G4L Rihanna 239.75138\n",
      "G4L Rihanna 239.75138\n",
      "(Timestamp('2018-11-30 17:49:45.796000'), '16', 'paid', None, None, 1076.0, 'Birmingham-Hoover, AL', '\"Mozilla/5.0 (Macintosh; Intel Mac OS X 10_9_4) AppleWebKit/537.77.4 (KHTML, like Gecko) Version/7.0.5 Safari/537.77.4\"')\n",
      "\n",
      "        SELECT songs.song_id,\n",
      "               artists.artist_id\n",
      "        FROM  songs\n",
      "          INNER JOIN artists\n",
      "            ON songs.artist_id = artists.artist_id\n",
      "        WHERE songs.title = %s\n",
      "              AND\n",
      "              artists.name = %s\n",
      "              AND\n",
      "              songs.duration = %s\n",
      " Hello Evanescence 220.3424\n",
      "Hello Evanescence 220.3424\n",
      "(Timestamp('2018-11-30 17:53:44.796000'), '16', 'paid', None, None, 1076.0, 'Birmingham-Hoover, AL', '\"Mozilla/5.0 (Macintosh; Intel Mac OS X 10_9_4) AppleWebKit/537.77.4 (KHTML, like Gecko) Version/7.0.5 Safari/537.77.4\"')\n",
      "\n",
      "        SELECT songs.song_id,\n",
      "               artists.artist_id\n",
      "        FROM  songs\n",
      "          INNER JOIN artists\n",
      "            ON songs.artist_id = artists.artist_id\n",
      "        WHERE songs.title = %s\n",
      "              AND\n",
      "              artists.name = %s\n",
      "              AND\n",
      "              songs.duration = %s\n",
      " Tamale Mr. Vegas 240.69179\n",
      "Tamale Mr. Vegas 240.69179\n",
      "(Timestamp('2018-11-30 17:54:43.796000'), '49', 'paid', None, None, 1114.0, 'San Francisco-Oakland-Hayward, CA', 'Mozilla/5.0 (Windows NT 5.1; rv:31.0) Gecko/20100101 Firefox/31.0')\n",
      "\n",
      "        SELECT songs.song_id,\n",
      "               artists.artist_id\n",
      "        FROM  songs\n",
      "          INNER JOIN artists\n",
      "            ON songs.artist_id = artists.artist_id\n",
      "        WHERE songs.title = %s\n",
      "              AND\n",
      "              artists.name = %s\n",
      "              AND\n",
      "              songs.duration = %s\n",
      " Another Place Mischa Daniels 419.81342\n",
      "Another Place Mischa Daniels 419.81342\n",
      "(Timestamp('2018-11-30 17:57:24.796000'), '16', 'paid', None, None, 1076.0, 'Birmingham-Hoover, AL', '\"Mozilla/5.0 (Macintosh; Intel Mac OS X 10_9_4) AppleWebKit/537.77.4 (KHTML, like Gecko) Version/7.0.5 Safari/537.77.4\"')\n",
      "\n",
      "        SELECT songs.song_id,\n",
      "               artists.artist_id\n",
      "        FROM  songs\n",
      "          INNER JOIN artists\n",
      "            ON songs.artist_id = artists.artist_id\n",
      "        WHERE songs.title = %s\n",
      "              AND\n",
      "              artists.name = %s\n",
      "              AND\n",
      "              songs.duration = %s\n",
      " Straight To Hell The Menzingers 276.00934\n",
      "Straight To Hell The Menzingers 276.00934\n",
      "(Timestamp('2018-11-30 17:58:43.796000'), '49', 'paid', None, None, 1114.0, 'San Francisco-Oakland-Hayward, CA', 'Mozilla/5.0 (Windows NT 5.1; rv:31.0) Gecko/20100101 Firefox/31.0')\n",
      "\n",
      "        SELECT songs.song_id,\n",
      "               artists.artist_id\n",
      "        FROM  songs\n",
      "          INNER JOIN artists\n",
      "            ON songs.artist_id = artists.artist_id\n",
      "        WHERE songs.title = %s\n",
      "              AND\n",
      "              artists.name = %s\n",
      "              AND\n",
      "              songs.duration = %s\n",
      " Cry Me A River Justin Timberlake 288.93995\n",
      "Cry Me A River Justin Timberlake 288.93995\n",
      "(Timestamp('2018-11-30 18:03:19.796000'), '49', 'paid', None, None, 1114.0, 'San Francisco-Oakland-Hayward, CA', 'Mozilla/5.0 (Windows NT 5.1; rv:31.0) Gecko/20100101 Firefox/31.0')\n",
      "\n",
      "        SELECT songs.song_id,\n",
      "               artists.artist_id\n",
      "        FROM  songs\n",
      "          INNER JOIN artists\n",
      "            ON songs.artist_id = artists.artist_id\n",
      "        WHERE songs.title = %s\n",
      "              AND\n",
      "              artists.name = %s\n",
      "              AND\n",
      "              songs.duration = %s\n",
      " Un Camino Hasta Vos Vilma Palma e Vampiros 338.18077\n",
      "Un Camino Hasta Vos Vilma Palma e Vampiros 338.18077\n",
      "(Timestamp('2018-11-30 18:04:23.796000'), '16', 'paid', None, None, 1076.0, 'Birmingham-Hoover, AL', '\"Mozilla/5.0 (Macintosh; Intel Mac OS X 10_9_4) AppleWebKit/537.77.4 (KHTML, like Gecko) Version/7.0.5 Safari/537.77.4\"')\n",
      "\n",
      "        SELECT songs.song_id,\n",
      "               artists.artist_id\n",
      "        FROM  songs\n",
      "          INNER JOIN artists\n",
      "            ON songs.artist_id = artists.artist_id\n",
      "        WHERE songs.title = %s\n",
      "              AND\n",
      "              artists.name = %s\n",
      "              AND\n",
      "              songs.duration = %s\n",
      " Sura (2008 Digital Remaster) CCCP - Fedeli Alla Linea 329.66485\n",
      "Sura (2008 Digital Remaster) CCCP - Fedeli Alla Linea 329.66485\n",
      "(Timestamp('2018-11-30 18:08:07.796000'), '49', 'paid', None, None, 1114.0, 'San Francisco-Oakland-Hayward, CA', 'Mozilla/5.0 (Windows NT 5.1; rv:31.0) Gecko/20100101 Firefox/31.0')\n",
      "\n",
      "        SELECT songs.song_id,\n",
      "               artists.artist_id\n",
      "        FROM  songs\n",
      "          INNER JOIN artists\n",
      "            ON songs.artist_id = artists.artist_id\n",
      "        WHERE songs.title = %s\n",
      "              AND\n",
      "              artists.name = %s\n",
      "              AND\n",
      "              songs.duration = %s\n",
      " Pursuit Of Happiness (nightmare) Kid Cudi / MGMT / Ratatat 295.67955\n",
      "Pursuit Of Happiness (nightmare) Kid Cudi / MGMT / Ratatat 295.67955\n",
      "(Timestamp('2018-11-30 18:10:01.796000'), '16', 'paid', None, None, 1076.0, 'Birmingham-Hoover, AL', '\"Mozilla/5.0 (Macintosh; Intel Mac OS X 10_9_4) AppleWebKit/537.77.4 (KHTML, like Gecko) Version/7.0.5 Safari/537.77.4\"')\n",
      "\n",
      "        SELECT songs.song_id,\n",
      "               artists.artist_id\n",
      "        FROM  songs\n",
      "          INNER JOIN artists\n",
      "            ON songs.artist_id = artists.artist_id\n",
      "        WHERE songs.title = %s\n",
      "              AND\n",
      "              artists.name = %s\n",
      "              AND\n",
      "              songs.duration = %s\n",
      " Forever Drake / Kanye West / Lil Wayne / Eminem 357.66812\n",
      "Forever Drake / Kanye West / Lil Wayne / Eminem 357.66812\n",
      "(Timestamp('2018-11-30 18:13:36.796000'), '49', 'paid', None, None, 1114.0, 'San Francisco-Oakland-Hayward, CA', 'Mozilla/5.0 (Windows NT 5.1; rv:31.0) Gecko/20100101 Firefox/31.0')\n",
      "\n",
      "        SELECT songs.song_id,\n",
      "               artists.artist_id\n",
      "        FROM  songs\n",
      "          INNER JOIN artists\n",
      "            ON songs.artist_id = artists.artist_id\n",
      "        WHERE songs.title = %s\n",
      "              AND\n",
      "              artists.name = %s\n",
      "              AND\n",
      "              songs.duration = %s\n",
      " Homesick [Acoustic] A Day To Remember 247.64036\n",
      "Homesick [Acoustic] A Day To Remember 247.64036\n",
      "(Timestamp('2018-11-30 18:14:56.796000'), '16', 'paid', None, None, 1076.0, 'Birmingham-Hoover, AL', '\"Mozilla/5.0 (Macintosh; Intel Mac OS X 10_9_4) AppleWebKit/537.77.4 (KHTML, like Gecko) Version/7.0.5 Safari/537.77.4\"')\n",
      "\n",
      "        SELECT songs.song_id,\n",
      "               artists.artist_id\n",
      "        FROM  songs\n",
      "          INNER JOIN artists\n",
      "            ON songs.artist_id = artists.artist_id\n",
      "        WHERE songs.title = %s\n",
      "              AND\n",
      "              artists.name = %s\n",
      "              AND\n",
      "              songs.duration = %s\n",
      " Dead And Gone [feat. Justin Timberlake] (Explicit Album Version) T.I. 299.75465\n",
      "Dead And Gone [feat. Justin Timberlake] (Explicit Album Version) T.I. 299.75465\n",
      "(Timestamp('2018-11-30 18:16:20.796000'), '91', 'free', None, None, 1085.0, 'Dallas-Fort Worth-Arlington, TX', 'Mozilla/5.0 (compatible; MSIE 10.0; Windows NT 6.2; WOW64; Trident/6.0)')\n",
      "\n",
      "        SELECT songs.song_id,\n",
      "               artists.artist_id\n",
      "        FROM  songs\n",
      "          INNER JOIN artists\n",
      "            ON songs.artist_id = artists.artist_id\n",
      "        WHERE songs.title = %s\n",
      "              AND\n",
      "              artists.name = %s\n",
      "              AND\n",
      "              songs.duration = %s\n",
      " It'll Be a Long Time (Album Version) The Offspring 163.3171\n",
      "It'll Be a Long Time (Album Version) The Offspring 163.3171\n",
      "(Timestamp('2018-11-30 18:19:03.796000'), '16', 'paid', None, None, 1076.0, 'Birmingham-Hoover, AL', '\"Mozilla/5.0 (Macintosh; Intel Mac OS X 10_9_4) AppleWebKit/537.77.4 (KHTML, like Gecko) Version/7.0.5 Safari/537.77.4\"')\n",
      "\n",
      "        SELECT songs.song_id,\n",
      "               artists.artist_id\n",
      "        FROM  songs\n",
      "          INNER JOIN artists\n",
      "            ON songs.artist_id = artists.artist_id\n",
      "        WHERE songs.title = %s\n",
      "              AND\n",
      "              artists.name = %s\n",
      "              AND\n",
      "              songs.duration = %s\n",
      " Esta Es Para Hacerte FÃÂ©liz Jorge Gonzalez 272.14322\n",
      "Esta Es Para Hacerte FÃÂ©liz Jorge Gonzalez 272.14322\n",
      "(Timestamp('2018-11-30 18:19:33.796000'), '49', 'paid', None, None, 1114.0, 'San Francisco-Oakland-Hayward, CA', 'Mozilla/5.0 (Windows NT 5.1; rv:31.0) Gecko/20100101 Firefox/31.0')\n",
      "\n",
      "        SELECT songs.song_id,\n",
      "               artists.artist_id\n",
      "        FROM  songs\n",
      "          INNER JOIN artists\n",
      "            ON songs.artist_id = artists.artist_id\n",
      "        WHERE songs.title = %s\n",
      "              AND\n",
      "              artists.name = %s\n",
      "              AND\n",
      "              songs.duration = %s\n",
      " Spin Spin Sugar Sneaker Pimps 260.91057\n",
      "Spin Spin Sugar Sneaker Pimps 260.91057\n",
      "(Timestamp('2018-11-30 18:21:19.796000'), '91', 'free', None, None, 1085.0, 'Dallas-Fort Worth-Arlington, TX', 'Mozilla/5.0 (compatible; MSIE 10.0; Windows NT 6.2; WOW64; Trident/6.0)')\n",
      "\n",
      "        SELECT songs.song_id,\n",
      "               artists.artist_id\n",
      "        FROM  songs\n",
      "          INNER JOIN artists\n",
      "            ON songs.artist_id = artists.artist_id\n",
      "        WHERE songs.title = %s\n",
      "              AND\n",
      "              artists.name = %s\n",
      "              AND\n",
      "              songs.duration = %s\n",
      " This War Is Ours (The Guillotine II) Escape The Fate 266.73587\n",
      "This War Is Ours (The Guillotine II) Escape The Fate 266.73587\n",
      "(Timestamp('2018-11-30 18:21:46.796000'), '16', 'paid', None, None, 1076.0, 'Birmingham-Hoover, AL', '\"Mozilla/5.0 (Macintosh; Intel Mac OS X 10_9_4) AppleWebKit/537.77.4 (KHTML, like Gecko) Version/7.0.5 Safari/537.77.4\"')\n",
      "\n",
      "        SELECT songs.song_id,\n",
      "               artists.artist_id\n",
      "        FROM  songs\n",
      "          INNER JOIN artists\n",
      "            ON songs.artist_id = artists.artist_id\n",
      "        WHERE songs.title = %s\n",
      "              AND\n",
      "              artists.name = %s\n",
      "              AND\n",
      "              songs.duration = %s\n",
      " La Vida Es Un Ratico Juanes 243.27791\n",
      "La Vida Es Un Ratico Juanes 243.27791\n",
      "(Timestamp('2018-11-30 18:24:05.796000'), '49', 'paid', None, None, 1114.0, 'San Francisco-Oakland-Hayward, CA', 'Mozilla/5.0 (Windows NT 5.1; rv:31.0) Gecko/20100101 Firefox/31.0')\n",
      "\n",
      "        SELECT songs.song_id,\n",
      "               artists.artist_id\n",
      "        FROM  songs\n",
      "          INNER JOIN artists\n",
      "            ON songs.artist_id = artists.artist_id\n",
      "        WHERE songs.title = %s\n",
      "              AND\n",
      "              artists.name = %s\n",
      "              AND\n",
      "              songs.duration = %s\n",
      " Never Mind The Replacements 170.57914\n",
      "Never Mind The Replacements 170.57914\n",
      "(Timestamp('2018-11-30 18:26:12.796000'), '16', 'paid', None, None, 1076.0, 'Birmingham-Hoover, AL', '\"Mozilla/5.0 (Macintosh; Intel Mac OS X 10_9_4) AppleWebKit/537.77.4 (KHTML, like Gecko) Version/7.0.5 Safari/537.77.4\"')\n",
      "\n",
      "        SELECT songs.song_id,\n",
      "               artists.artist_id\n",
      "        FROM  songs\n",
      "          INNER JOIN artists\n",
      "            ON songs.artist_id = artists.artist_id\n",
      "        WHERE songs.title = %s\n",
      "              AND\n",
      "              artists.name = %s\n",
      "              AND\n",
      "              songs.duration = %s\n",
      " Possession Sarah McLachlan 278.90893\n",
      "Possession Sarah McLachlan 278.90893\n",
      "(Timestamp('2018-11-30 18:28:08.796000'), '49', 'paid', None, None, 1114.0, 'San Francisco-Oakland-Hayward, CA', 'Mozilla/5.0 (Windows NT 5.1; rv:31.0) Gecko/20100101 Firefox/31.0')\n",
      "\n",
      "        SELECT songs.song_id,\n",
      "               artists.artist_id\n",
      "        FROM  songs\n",
      "          INNER JOIN artists\n",
      "            ON songs.artist_id = artists.artist_id\n",
      "        WHERE songs.title = %s\n",
      "              AND\n",
      "              artists.name = %s\n",
      "              AND\n",
      "              songs.duration = %s\n",
      " Don't Start Me Talkin' Sonny Boy Williamson 152.24118\n",
      "Don't Start Me Talkin' Sonny Boy Williamson 152.24118\n",
      "(Timestamp('2018-11-30 18:29:02.796000'), '16', 'paid', None, None, 1076.0, 'Birmingham-Hoover, AL', '\"Mozilla/5.0 (Macintosh; Intel Mac OS X 10_9_4) AppleWebKit/537.77.4 (KHTML, like Gecko) Version/7.0.5 Safari/537.77.4\"')\n",
      "\n",
      "        SELECT songs.song_id,\n",
      "               artists.artist_id\n",
      "        FROM  songs\n",
      "          INNER JOIN artists\n",
      "            ON songs.artist_id = artists.artist_id\n",
      "        WHERE songs.title = %s\n",
      "              AND\n",
      "              artists.name = %s\n",
      "              AND\n",
      "              songs.duration = %s\n",
      " Back To Life (However Do You Want Me) (2003 Digital Remaster) (Feat. Caron Wheeler) Soul II Soul Featuring Caron Wheeler 225.2273\n",
      "Back To Life (However Do You Want Me) (2003 Digital Remaster) (Feat. Caron Wheeler) Soul II Soul Featuring Caron Wheeler 225.2273\n",
      "(Timestamp('2018-11-30 18:31:34.796000'), '16', 'paid', None, None, 1076.0, 'Birmingham-Hoover, AL', '\"Mozilla/5.0 (Macintosh; Intel Mac OS X 10_9_4) AppleWebKit/537.77.4 (KHTML, like Gecko) Version/7.0.5 Safari/537.77.4\"')\n",
      "\n",
      "        SELECT songs.song_id,\n",
      "               artists.artist_id\n",
      "        FROM  songs\n",
      "          INNER JOIN artists\n",
      "            ON songs.artist_id = artists.artist_id\n",
      "        WHERE songs.title = %s\n",
      "              AND\n",
      "              artists.name = %s\n",
      "              AND\n",
      "              songs.duration = %s\n",
      " Dog Days Are Over (Radio Edit) Florence + The Machine 219.66322\n",
      "Dog Days Are Over (Radio Edit) Florence + The Machine 219.66322\n",
      "(Timestamp('2018-11-30 18:32:46.796000'), '49', 'paid', None, None, 1114.0, 'San Francisco-Oakland-Hayward, CA', 'Mozilla/5.0 (Windows NT 5.1; rv:31.0) Gecko/20100101 Firefox/31.0')\n",
      "\n",
      "        SELECT songs.song_id,\n",
      "               artists.artist_id\n",
      "        FROM  songs\n",
      "          INNER JOIN artists\n",
      "            ON songs.artist_id = artists.artist_id\n",
      "        WHERE songs.title = %s\n",
      "              AND\n",
      "              artists.name = %s\n",
      "              AND\n",
      "              songs.duration = %s\n",
      " Heresy  (LP Version) Pantera 286.69342\n",
      "Heresy  (LP Version) Pantera 286.69342\n",
      "(Timestamp('2018-11-30 18:35:19.796000'), '16', 'paid', None, None, 1076.0, 'Birmingham-Hoover, AL', '\"Mozilla/5.0 (Macintosh; Intel Mac OS X 10_9_4) AppleWebKit/537.77.4 (KHTML, like Gecko) Version/7.0.5 Safari/537.77.4\"')\n",
      "\n",
      "        SELECT songs.song_id,\n",
      "               artists.artist_id\n",
      "        FROM  songs\n",
      "          INNER JOIN artists\n",
      "            ON songs.artist_id = artists.artist_id\n",
      "        WHERE songs.title = %s\n",
      "              AND\n",
      "              artists.name = %s\n",
      "              AND\n",
      "              songs.duration = %s\n",
      " Remedy Cold 177.76281\n",
      "Remedy Cold 177.76281\n",
      "(Timestamp('2018-11-30 18:36:25.796000'), '49', 'paid', None, None, 1114.0, 'San Francisco-Oakland-Hayward, CA', 'Mozilla/5.0 (Windows NT 5.1; rv:31.0) Gecko/20100101 Firefox/31.0')\n",
      "\n",
      "        SELECT songs.song_id,\n",
      "               artists.artist_id\n",
      "        FROM  songs\n",
      "          INNER JOIN artists\n",
      "            ON songs.artist_id = artists.artist_id\n",
      "        WHERE songs.title = %s\n",
      "              AND\n",
      "              artists.name = %s\n",
      "              AND\n",
      "              songs.duration = %s\n",
      " Frozen Angel Norther 246.54322\n",
      "Frozen Angel Norther 246.54322\n",
      "(Timestamp('2018-11-30 18:39:22.796000'), '49', 'paid', None, None, 1114.0, 'San Francisco-Oakland-Hayward, CA', 'Mozilla/5.0 (Windows NT 5.1; rv:31.0) Gecko/20100101 Firefox/31.0')\n",
      "\n",
      "        SELECT songs.song_id,\n",
      "               artists.artist_id\n",
      "        FROM  songs\n",
      "          INNER JOIN artists\n",
      "            ON songs.artist_id = artists.artist_id\n",
      "        WHERE songs.title = %s\n",
      "              AND\n",
      "              artists.name = %s\n",
      "              AND\n",
      "              songs.duration = %s\n",
      " The Pretender Foo Fighters 271.38567\n",
      "The Pretender Foo Fighters 271.38567\n",
      "(Timestamp('2018-11-30 18:40:05.796000'), '16', 'paid', None, None, 1076.0, 'Birmingham-Hoover, AL', '\"Mozilla/5.0 (Macintosh; Intel Mac OS X 10_9_4) AppleWebKit/537.77.4 (KHTML, like Gecko) Version/7.0.5 Safari/537.77.4\"')\n",
      "\n",
      "        SELECT songs.song_id,\n",
      "               artists.artist_id\n",
      "        FROM  songs\n",
      "          INNER JOIN artists\n",
      "            ON songs.artist_id = artists.artist_id\n",
      "        WHERE songs.title = %s\n",
      "              AND\n",
      "              artists.name = %s\n",
      "              AND\n",
      "              songs.duration = %s\n",
      " Besos De Ceniza Timbiriche 202.60526\n",
      "Besos De Ceniza Timbiriche 202.60526\n",
      "(Timestamp('2018-11-30 18:44:36.796000'), '16', 'paid', None, None, 1076.0, 'Birmingham-Hoover, AL', '\"Mozilla/5.0 (Macintosh; Intel Mac OS X 10_9_4) AppleWebKit/537.77.4 (KHTML, like Gecko) Version/7.0.5 Safari/537.77.4\"')\n",
      "\n",
      "        SELECT songs.song_id,\n",
      "               artists.artist_id\n",
      "        FROM  songs\n",
      "          INNER JOIN artists\n",
      "            ON songs.artist_id = artists.artist_id\n",
      "        WHERE songs.title = %s\n",
      "              AND\n",
      "              artists.name = %s\n",
      "              AND\n",
      "              songs.duration = %s\n",
      " Rose A Perfect Circle 206.05342\n",
      "Rose A Perfect Circle 206.05342\n",
      "(Timestamp('2018-11-30 18:47:58.796000'), '16', 'paid', None, None, 1076.0, 'Birmingham-Hoover, AL', '\"Mozilla/5.0 (Macintosh; Intel Mac OS X 10_9_4) AppleWebKit/537.77.4 (KHTML, like Gecko) Version/7.0.5 Safari/537.77.4\"')\n",
      "\n",
      "        SELECT songs.song_id,\n",
      "               artists.artist_id\n",
      "        FROM  songs\n",
      "          INNER JOIN artists\n",
      "            ON songs.artist_id = artists.artist_id\n",
      "        WHERE songs.title = %s\n",
      "              AND\n",
      "              artists.name = %s\n",
      "              AND\n",
      "              songs.duration = %s\n",
      " The Haunting Anberlin 348.682\n",
      "The Haunting Anberlin 348.682\n",
      "(Timestamp('2018-11-30 18:51:24.796000'), '16', 'paid', None, None, 1076.0, 'Birmingham-Hoover, AL', '\"Mozilla/5.0 (Macintosh; Intel Mac OS X 10_9_4) AppleWebKit/537.77.4 (KHTML, like Gecko) Version/7.0.5 Safari/537.77.4\"')\n",
      "\n",
      "        SELECT songs.song_id,\n",
      "               artists.artist_id\n",
      "        FROM  songs\n",
      "          INNER JOIN artists\n",
      "            ON songs.artist_id = artists.artist_id\n",
      "        WHERE songs.title = %s\n",
      "              AND\n",
      "              artists.name = %s\n",
      "              AND\n",
      "              songs.duration = %s\n",
      " Anything You Say (Unreleased Version) Deas Vail 237.68771\n",
      "Anything You Say (Unreleased Version) Deas Vail 237.68771\n",
      "(Timestamp('2018-11-30 19:54:24.796000'), '5', 'free', None, None, 985.0, 'Detroit-Warren-Dearborn, MI', '\"Mozilla/5.0 (Macintosh; Intel Mac OS X 10_9_4) AppleWebKit/537.77.4 (KHTML, like Gecko) Version/7.0.5 Safari/537.77.4\"')\n"
     ]
    }
   ],
   "source": [
    "for index, row in df.iterrows():\n",
    "    # get songid and artistid from song and artist tables\n",
    "    cur.execute(song_select, (row.song, row.artist, row.length))\n",
    "    results = cur.fetchone()\n",
    "    \n",
    "    if results:\n",
    "        songid, artistid = results\n",
    "    else:\n",
    "        songid, artistid = None, None\n",
    "\n",
    "    # insert songplay record\n",
    "    #(time_stamp, user_id, level, song_id, artist_id, session_id, location, user_agent)\n",
    "    \n",
    "    songplay_data = (pd.to_datetime(row.ts, unit='ms'), row.userId, row.level, songid, artistid, row.sessionId, row.location, row.userAgent)\n",
    "    cur.execute(songplay_table_insert, songplay_data)\n",
    "    conn.commit()\n",
    "    #timestamp, user ID, level, song ID, artist ID, session ID, location, and user agent"
   ]
  },
  {
   "cell_type": "code",
   "execution_count": null,
   "metadata": {},
   "outputs": [],
   "source": []
  },
  {
   "cell_type": "markdown",
   "metadata": {
    "editable": true
   },
   "source": [
    "Run `test.ipynb` to see if you've successfully added records to this table."
   ]
  },
  {
   "cell_type": "markdown",
   "metadata": {
    "editable": true
   },
   "source": [
    "# Close Connection to Sparkify Database"
   ]
  },
  {
   "cell_type": "code",
   "execution_count": 23,
   "metadata": {
    "editable": true
   },
   "outputs": [],
   "source": [
    "conn.close()"
   ]
  },
  {
   "cell_type": "markdown",
   "metadata": {
    "editable": true
   },
   "source": [
    "# Implement `etl.py`\n",
    "Use what you've completed in this notebook to implement `etl.py`."
   ]
  },
  {
   "cell_type": "code",
   "execution_count": null,
   "metadata": {
    "editable": true
   },
   "outputs": [],
   "source": []
  }
 ],
 "metadata": {
  "kernelspec": {
   "name": "python3",
   "display_name": "Python 3.8.5 64-bit ('env_scrimshaw')",
   "metadata": {
    "interpreter": {
     "hash": "b8276e529377cdc0111d8ed03485539d6353c53aef402e7071985e3e3f96169f"
    }
   }
  },
  "language_info": {
   "codemirror_mode": {
    "name": "ipython",
    "version": 3
   },
   "file_extension": ".py",
   "mimetype": "text/x-python",
   "name": "python",
   "nbconvert_exporter": "python",
   "pygments_lexer": "ipython3",
   "version": "3.8.5-final"
  }
 },
 "nbformat": 4,
 "nbformat_minor": 4
}